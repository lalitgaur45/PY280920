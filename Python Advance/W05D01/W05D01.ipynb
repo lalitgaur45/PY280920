{
 "cells": [
  {
   "cell_type": "code",
   "execution_count": null,
   "metadata": {},
   "outputs": [],
   "source": [
    "Q3. Create a Student Record containing:-\n",
    "    \n",
    "Student:\n",
    "    name //obj var\n",
    "    roll_no //obj var\n",
    "    marks = {\"history\":0,\"mechanics\":0,\"chemisry\":0} //obj var\n",
    "    \n",
    "    student_obj.add_marks(\"mechanics\",40)\n",
    "    \n",
    "    find_topper():classmethod, student_list:class_variable\n",
    "                                total_marks: class_variable\n",
    "    find_failed(): below 33% a students gets failed.\n",
    "        \n",
    "    percentage as obj var.\n",
    "        \n",
    "\n",
    "        \n",
    "Homework Question."
   ]
  },
  {
   "cell_type": "code",
   "execution_count": 27,
   "metadata": {},
   "outputs": [],
   "source": [
    "class Student:\n",
    "    student_list = []\n",
    "    max_marks = 300\n",
    "    passing_percentage = 33\n",
    "    def __init__(self,name,roll_no):\n",
    "        print(\"an object with name\",name,\"is getting created.\")\n",
    "        self.name = name\n",
    "        self.roll_no = roll_no\n",
    "        self.marks = {\"history\":0,\"mechanics\":0,\"chemistry\":0}\n",
    "        Student.student_list.append(self)\n",
    "    \n",
    "    def add_marks(self,sub_name,marks):\n",
    "        sub_name = sub_name.lower()\n",
    "        self.marks[sub_name] = marks\n",
    "        \n",
    "#         print(self.marks)\n",
    "    def find_total(self):\n",
    "        self.total_marks = sum(self.marks.values())\n",
    "    \n",
    "    @classmethod\n",
    "    def find_topper(cls):\n",
    "        current_topper = cls.student_list[0]\n",
    "        highest_marks = 0\n",
    "        for student in cls.student_list:\n",
    "            student.find_total()\n",
    "            if student.total_marks>highest_marks:\n",
    "                highest_marks = student.total_marks\n",
    "                current_topper = student\n",
    "        print(\"The topper is \",current_topper.name)\n",
    "            \n",
    "    @classmethod\n",
    "    def find_failed(cls):\n",
    "        for student in cls.student_list:\n",
    "            student.find_total()\n",
    "            cls.percentage_formula(student.marks)\n",
    "            if percentage<cls.passing_percentage:\n",
    "                print(student.name,\"got failed\")\n",
    "                \n",
    "    @staticmethod\n",
    "    def percentage_formula(obt_marks):\n",
    "        per = (obj_marks/Student.max_marks)*100\n",
    "        return per"
   ]
  },
  {
   "cell_type": "code",
   "execution_count": 28,
   "metadata": {},
   "outputs": [
    {
     "name": "stdout",
     "output_type": "stream",
     "text": [
      "an object with name Suvarna is getting created.\n",
      "an object with name VAmsi A is getting created.\n",
      "an object with name Mohit singh is getting created.\n"
     ]
    }
   ],
   "source": [
    "s = Student(\"Suvarna\", 1)\n",
    "s.add_marks(\"Chemistry\",89)\n",
    "s.add_marks(\"mechanics\",77)\n",
    "s.add_marks(\"HISTORY\",79)\n",
    "\n",
    "v = Student(\"VAmsi A\",2)\n",
    "v.add_marks(\"Chemistry\",90)\n",
    "v.add_marks(\"mecHanics\",73)\n",
    "v.add_marks(\"HISTORY\",78)\n",
    "\n",
    "m = Student(\"Mohit singh\",5)\n",
    "m.add_marks(\"Chemistry\",10)\n",
    "m.add_marks(\"History\",15)\n",
    "m.add_marks(\"mechanics\",24)"
   ]
  },
  {
   "cell_type": "code",
   "execution_count": 29,
   "metadata": {},
   "outputs": [
    {
     "name": "stdout",
     "output_type": "stream",
     "text": [
      "The topper is  Suvarna\n"
     ]
    }
   ],
   "source": [
    "Student.find_topper()"
   ]
  },
  {
   "cell_type": "code",
   "execution_count": 30,
   "metadata": {},
   "outputs": [
    {
     "name": "stdout",
     "output_type": "stream",
     "text": [
      "Mohit singh got failed\n"
     ]
    }
   ],
   "source": [
    "Student.find_failed()"
   ]
  },
  {
   "cell_type": "code",
   "execution_count": 17,
   "metadata": {},
   "outputs": [],
   "source": [
    "am = Student(\"Aman kumar Gupta\",3) // an object is created.\n",
    "\n",
    "// am is the reference to the object in memory which have name=aman kumar gupta and roll no3.\n",
    "\n",
    "// self keyword used in obj method/fun takes this reference to access object variables."
   ]
  },
  {
   "cell_type": "code",
   "execution_count": 11,
   "metadata": {},
   "outputs": [
    {
     "data": {
      "text/plain": [
       "245"
      ]
     },
     "execution_count": 11,
     "metadata": {},
     "output_type": "execute_result"
    }
   ],
   "source": [
    "sum(suvarna.marks.values())"
   ]
  },
  {
   "cell_type": "code",
   "execution_count": 12,
   "metadata": {},
   "outputs": [
    {
     "data": {
      "text/plain": [
       "241"
      ]
     },
     "execution_count": 12,
     "metadata": {},
     "output_type": "execute_result"
    }
   ],
   "source": [
    "sum(vamsi.marks.values())"
   ]
  },
  {
   "cell_type": "code",
   "execution_count": null,
   "metadata": {},
   "outputs": [],
   "source": [
    "Q1 Make an Class on Paytm containing the following attributes and Methods:-\n",
    "Attributes:\n",
    "    email\n",
    "    name\n",
    "    \n",
    "Methods:\n",
    "    Recharge_Prepaid\n",
    "    Book_Tickets"
   ]
  },
  {
   "cell_type": "code",
   "execution_count": 47,
   "metadata": {},
   "outputs": [],
   "source": [
    "class paytm:\n",
    "    state_map_trains = {\"A\":0,\"B\":10,\"C\":20}\n",
    "    def __init__(self,name,email):\n",
    "        self.name = name\n",
    "        self.email = email\n",
    "        self.wallet = 0\n",
    "    \n",
    "    def recharge_prepaid(self,no,amount):\n",
    "        if self.wallet < amount:\n",
    "            print(\"wallet is empty,please refill wallet or choose another methode for payment!!\")\n",
    "        else:\n",
    "            self.wallet = self.wallet - amount\n",
    "            print(\"Successfull recharege done for number\",no,\"of amount\",amount)\n",
    "            \n",
    "    def book_tickets(self,departure_city,destination):\n",
    "        initial = paytm.state_map_trains[departure_city]\n",
    "        final = paytm.state_map_trains[destination]\n",
    "        total = abs(final-initial)\n",
    "        ticket_price = total*50\n",
    "        \n",
    "        if self.wallet < ticket_price:\n",
    "            print(\"wallet is empty,please refill wallet or choose another methode for payment!!\")\n",
    "        else:\n",
    "            self.wallet = self.wallet - ticket_price\n",
    "            print(\"Successfull ticket booking done for you with the price\",ticket_price,\" update wallet balance\",self.wallet)"
   ]
  },
  {
   "cell_type": "code",
   "execution_count": 48,
   "metadata": {},
   "outputs": [],
   "source": [
    "psk = paytm(\"Pushkar\",\"pushkar@email.com\")"
   ]
  },
  {
   "cell_type": "code",
   "execution_count": 52,
   "metadata": {},
   "outputs": [],
   "source": [
    "psk.wallet = 2550"
   ]
  },
  {
   "cell_type": "code",
   "execution_count": 53,
   "metadata": {},
   "outputs": [
    {
     "name": "stdout",
     "output_type": "stream",
     "text": [
      "Successfull ticket booking done for you with the price 1000  update wallet balance 1550\n"
     ]
    }
   ],
   "source": [
    "psk.book_tickets(\"C\",\"A\")"
   ]
  },
  {
   "cell_type": "code",
   "execution_count": null,
   "metadata": {},
   "outputs": [],
   "source": [
    "Optional:\n",
    "lets create as much features as you can in the paytm class:\n",
    "    \n",
    "    -various transaction methods\n",
    "    -booking plane tickets\n",
    "    -offers\n",
    "    -cashbacks\n",
    "    -last transactions.\n",
    "    -credit card info\n",
    "    -support\n",
    "    -premium membership\n",
    "    -paytm bank\n",
    "    -paytm games."
   ]
  },
  {
   "cell_type": "code",
   "execution_count": null,
   "metadata": {},
   "outputs": [],
   "source": [
    "Q2.Create a Time class and initialize it with hours and minutes.\n",
    "1. Make a method addTime which should take two time object and add them.\n",
    "E.g.- (2 hour and 50 min)+(1 hr and 20 min) is (4 hr and 10 min)\n",
    "2. Make a method displayTime which should print the time.\n",
    "3. Make a method DisplayMinute which should display the total minutes in the Time.\n",
    "E.g.- (1 hr 2 min) should display 62 minute.\n",
    "\n",
    "Required: Homework."
   ]
  }
 ],
 "metadata": {
  "kernelspec": {
   "display_name": "Python 3",
   "language": "python",
   "name": "python3"
  },
  "language_info": {
   "codemirror_mode": {
    "name": "ipython",
    "version": 3
   },
   "file_extension": ".py",
   "mimetype": "text/x-python",
   "name": "python",
   "nbconvert_exporter": "python",
   "pygments_lexer": "ipython3",
   "version": "3.8.3"
  }
 },
 "nbformat": 4,
 "nbformat_minor": 4
}
