{
 "cells": [
  {
   "cell_type": "code",
   "execution_count": null,
   "metadata": {},
   "outputs": [],
   "source": [
    "Revision:\n",
    "    from package import * but in this case, not untill you define it in __all__ list in init file.\n",
    "    Vs\n",
    "    from module import * => everything gets imported\n",
    "    what is the difference?\n",
    "    example of package could be sklearn,pandas,numpy,etc\n",
    "    example of module could be like math,random\n",
    "    \n",
    "    iterables? => which we can loop over.\n",
    "    "
   ]
  },
  {
   "cell_type": "code",
   "execution_count": null,
   "metadata": {},
   "outputs": [],
   "source": [
    "Q1: make a regx which match the pattern starting from m and ending with 2 digit number.\n",
    "\n",
    "2 mins."
   ]
  },
  {
   "cell_type": "code",
   "execution_count": 2,
   "metadata": {},
   "outputs": [],
   "source": [
    "import re\n",
    "\n",
    "re.search('^m.*[0-9]{2}$','mpe234234$%^$%g45')"
   ]
  },
  {
   "cell_type": "code",
   "execution_count": null,
   "metadata": {},
   "outputs": [],
   "source": [
    "# List comprehensions in python"
   ]
  },
  {
   "cell_type": "code",
   "execution_count": null,
   "metadata": {},
   "outputs": [],
   "source": [
    "short way or one line way of making a list with some logic."
   ]
  },
  {
   "cell_type": "code",
   "execution_count": null,
   "metadata": {},
   "outputs": [],
   "source": [
    "i'll write normal code first.\n",
    "than list comprehension version of that code."
   ]
  },
  {
   "cell_type": "code",
   "execution_count": null,
   "metadata": {},
   "outputs": [],
   "source": [
    "syntax [write code inside brackets.]\n",
    "[output for input in a list]"
   ]
  },
  {
   "cell_type": "code",
   "execution_count": 3,
   "metadata": {},
   "outputs": [
    {
     "name": "stdout",
     "output_type": "stream",
     "text": [
      "[2, 4, 6]\n"
     ]
    }
   ],
   "source": [
    "list1 = [1,2,3,4,5,6]\n",
    "\n",
    "even_list = []\n",
    "\n",
    "for i in list1:\n",
    "    if i%2==0:\n",
    "        even_list.append(i)\n",
    "        \n",
    "print(even_list)"
   ]
  },
  {
   "cell_type": "code",
   "execution_count": 4,
   "metadata": {},
   "outputs": [
    {
     "data": {
      "text/plain": [
       "[2, 4, 6]"
      ]
     },
     "execution_count": 4,
     "metadata": {},
     "output_type": "execute_result"
    }
   ],
   "source": [
    "[i for i in list1 if i%2==0]"
   ]
  },
  {
   "cell_type": "code",
   "execution_count": 5,
   "metadata": {},
   "outputs": [
    {
     "data": {
      "text/plain": [
       "[10, 20, 30]"
      ]
     },
     "execution_count": 5,
     "metadata": {},
     "output_type": "execute_result"
    }
   ],
   "source": [
    "[5*i for i in list1 if i%2==0]"
   ]
  },
  {
   "cell_type": "code",
   "execution_count": 6,
   "metadata": {},
   "outputs": [
    {
     "name": "stdout",
     "output_type": "stream",
     "text": [
      "['apple', 'mango', 'kiwi']\n"
     ]
    }
   ],
   "source": [
    "list2 = [\"apple\",\"mango\",\"kiwi\"]\n",
    "\n",
    "list3 = [fruit_name for fruit_name in list2]\n",
    "\n",
    "print(list3)"
   ]
  },
  {
   "cell_type": "code",
   "execution_count": null,
   "metadata": {},
   "outputs": [],
   "source": [
    "list3 = []\n",
    "for i in list2:\n",
    "    list3.append(i)"
   ]
  },
  {
   "cell_type": "code",
   "execution_count": 7,
   "metadata": {},
   "outputs": [
    {
     "name": "stdout",
     "output_type": "stream",
     "text": [
      "['apple', 'mango', 'kiwi']\n"
     ]
    }
   ],
   "source": [
    "list2 = [\"apple\",\"mango\",\"kiwi\"]\n",
    "\n",
    "list3 = [i for i in list2]\n",
    "\n",
    "print(list3)"
   ]
  },
  {
   "cell_type": "code",
   "execution_count": null,
   "metadata": {},
   "outputs": [],
   "source": [
    "#Q2 Make a list containing square of numbers from 1 to 6. Use list comprehension."
   ]
  },
  {
   "cell_type": "code",
   "execution_count": 8,
   "metadata": {},
   "outputs": [
    {
     "data": {
      "text/plain": [
       "[1, 4, 9, 16, 25, 36]"
      ]
     },
     "execution_count": 8,
     "metadata": {},
     "output_type": "execute_result"
    }
   ],
   "source": [
    "[i*i for i in range(1,7)]"
   ]
  },
  {
   "cell_type": "code",
   "execution_count": 9,
   "metadata": {},
   "outputs": [
    {
     "data": {
      "text/plain": [
       "[1, 4, 9, 16, 25, 36]"
      ]
     },
     "execution_count": 9,
     "metadata": {},
     "output_type": "execute_result"
    }
   ],
   "source": [
    "[i**2 for i in range(1,7)]"
   ]
  },
  {
   "cell_type": "code",
   "execution_count": 13,
   "metadata": {},
   "outputs": [
    {
     "name": "stdout",
     "output_type": "stream",
     "text": [
      "[9, 14, 6]\n"
     ]
    }
   ],
   "source": [
    "#Q3 Make a list containing length of  strings from a list of strings. Use list comprehension\n",
    "\n",
    "list_of_string = ['sdhfkj342','sdsdfjklsjdf34','sjdkfl']\n",
    "\n",
    "#normal version\n",
    "len_list = []\n",
    "\n",
    "for string in list_of_string:\n",
    "    len_list.append(len(string))\n",
    "    \n",
    "print(len_list)"
   ]
  },
  {
   "cell_type": "code",
   "execution_count": 12,
   "metadata": {},
   "outputs": [
    {
     "data": {
      "text/plain": [
       "[9, 14, 6]"
      ]
     },
     "execution_count": 12,
     "metadata": {},
     "output_type": "execute_result"
    }
   ],
   "source": [
    "[len(string) for string in list_of_string]"
   ]
  },
  {
   "cell_type": "code",
   "execution_count": 14,
   "metadata": {},
   "outputs": [],
   "source": [
    "# zip"
   ]
  },
  {
   "cell_type": "code",
   "execution_count": 16,
   "metadata": {},
   "outputs": [
    {
     "name": "stdout",
     "output_type": "stream",
     "text": [
      "[(1, 5, 9), (2, 6, 10), (3, 7, 11), (4, 8, 12)]\n"
     ]
    }
   ],
   "source": [
    "l1 = [1,2,3,4]\n",
    "l2 = [5,6,7,8]\n",
    "l3 = [9,10,11,12]\n",
    "\n",
    "#zip takes variable no. of arguments.\n",
    "# iterables.\n",
    "\n",
    "print(list(zip(l1,l2,l3)))"
   ]
  },
  {
   "cell_type": "code",
   "execution_count": 17,
   "metadata": {},
   "outputs": [
    {
     "name": "stdout",
     "output_type": "stream",
     "text": [
      "[(1, 5), (2, 6), (3, 7), (4, 8)]\n"
     ]
    }
   ],
   "source": [
    "\n",
    "print(list(zip(l1,l2)))"
   ]
  },
  {
   "cell_type": "code",
   "execution_count": null,
   "metadata": {},
   "outputs": [],
   "source": [
    "# if length of list are not same.\n",
    "\n",
    "l1 = [1,2,3,4,20,30,40]\n",
    "l2 = [5,6,7,8]\n",
    "l3 = [9,10,11,12]"
   ]
  },
  {
   "cell_type": "code",
   "execution_count": 18,
   "metadata": {},
   "outputs": [
    {
     "data": {
      "text/plain": [
       "[(1, 5, 9), (2, 6, 10), (3, 7, 11), (4, 8, 12)]"
      ]
     },
     "execution_count": 18,
     "metadata": {},
     "output_type": "execute_result"
    }
   ],
   "source": [
    "list(zip(l1,l2,l3))"
   ]
  },
  {
   "cell_type": "code",
   "execution_count": 19,
   "metadata": {},
   "outputs": [
    {
     "name": "stdout",
     "output_type": "stream",
     "text": [
      "[('python', 3), ('java', 8), ('django', 2), ('perl', 1)]\n"
     ]
    }
   ],
   "source": [
    "l1 = [\"python\",\"java\",\"django\",\"perl\"]\n",
    "l2 = [3,8,2,1]\n",
    "\n",
    "print(list(zip(l1,l2)))"
   ]
  },
  {
   "cell_type": "code",
   "execution_count": 20,
   "metadata": {},
   "outputs": [
    {
     "data": {
      "text/plain": [
       "<zip at 0xc004c8>"
      ]
     },
     "execution_count": 20,
     "metadata": {},
     "output_type": "execute_result"
    }
   ],
   "source": [
    "zip(l1,l2)"
   ]
  },
  {
   "cell_type": "code",
   "execution_count": 21,
   "metadata": {},
   "outputs": [
    {
     "data": {
      "text/plain": [
       "{'python': 3, 'java': 8, 'django': 2, 'perl': 1}"
      ]
     },
     "execution_count": 21,
     "metadata": {},
     "output_type": "execute_result"
    }
   ],
   "source": [
    "dict(zip(l1,l2))"
   ]
  },
  {
   "cell_type": "code",
   "execution_count": 22,
   "metadata": {},
   "outputs": [
    {
     "data": {
      "text/plain": [
       "{('django', 2), ('java', 8), ('perl', 1), ('python', 3)}"
      ]
     },
     "execution_count": 22,
     "metadata": {},
     "output_type": "execute_result"
    }
   ],
   "source": [
    "set(zip(l1,l2))"
   ]
  },
  {
   "cell_type": "code",
   "execution_count": 23,
   "metadata": {},
   "outputs": [
    {
     "name": "stdout",
     "output_type": "stream",
     "text": [
      "{('perl', 1), ('java', 8), ('django', 2), ('python', 3)}\n"
     ]
    }
   ],
   "source": [
    "l1 = [\"python\",\"java\",\"django\",\"perl\",\"python\"]\n",
    "l2 = [3,8,2,1,3]\n",
    "\n",
    "print(set(zip(l1,l2)))"
   ]
  },
  {
   "cell_type": "code",
   "execution_count": null,
   "metadata": {},
   "outputs": [],
   "source": [
    "2 most imp things about sets and dict?\n",
    "-> keys are uniqque\n",
    "-> keys are immutable."
   ]
  },
  {
   "cell_type": "code",
   "execution_count": 25,
   "metadata": {},
   "outputs": [
    {
     "name": "stdout",
     "output_type": "stream",
     "text": [
      "{'python': 4, 'java': 8, 'django': 2, 'perl': 1}\n"
     ]
    }
   ],
   "source": [
    "l1 = [\"python\",\"java\",\"django\",\"perl\",\"python\"]\n",
    "l2 = [3,8,2,1,4]\n",
    "\n",
    "print(dict(zip(l1,l2)))"
   ]
  },
  {
   "cell_type": "code",
   "execution_count": 26,
   "metadata": {},
   "outputs": [
    {
     "name": "stdout",
     "output_type": "stream",
     "text": [
      "{('perl', 1), ('python', 4), ('django', 2), ('java', 8), ('python', 3)}\n"
     ]
    }
   ],
   "source": [
    "l1 = [\"python\",\"java\",\"django\",\"perl\",\"python\"]\n",
    "l2 = [3,8,2,1,4]\n",
    "\n",
    "print(set(zip(l1,l2)))"
   ]
  },
  {
   "cell_type": "code",
   "execution_count": 32,
   "metadata": {},
   "outputs": [],
   "source": [
    "input_dict = {'python': 3, 'java': 8, 'django': 2, 'perl': 1}\n",
    "\n",
    "# output  => [('python', 3), ('java', 8), ('django', 2), ('perl', 1)]"
   ]
  },
  {
   "cell_type": "code",
   "execution_count": 33,
   "metadata": {},
   "outputs": [],
   "source": [
    "# .items() ?"
   ]
  },
  {
   "cell_type": "code",
   "execution_count": 35,
   "metadata": {},
   "outputs": [
    {
     "data": {
      "text/plain": [
       "[('python', 3), ('java', 8), ('django', 2), ('perl', 1)]"
      ]
     },
     "execution_count": 35,
     "metadata": {},
     "output_type": "execute_result"
    }
   ],
   "source": [
    "list(input_dict.items())"
   ]
  },
  {
   "cell_type": "code",
   "execution_count": null,
   "metadata": {},
   "outputs": [],
   "source": [
    ".keys() and .values()"
   ]
  },
  {
   "cell_type": "code",
   "execution_count": null,
   "metadata": {},
   "outputs": [],
   "source": [
    "Q4 Use list comprehension and zip\n",
    "\n",
    "l1 = [\"python\",\"java\",\"django\",\"perl\"]\n",
    "\n",
    "make a dict which will contain the keys from  l1 and value should be length of the string from the same l1."
   ]
  },
  {
   "cell_type": "code",
   "execution_count": null,
   "metadata": {},
   "outputs": [],
   "source": [
    "output => {\"python\":6,\"java\":4,\"django\":6,\"perl\":4}"
   ]
  },
  {
   "cell_type": "code",
   "execution_count": 39,
   "metadata": {},
   "outputs": [],
   "source": [
    "l1 = [\"python\",\"java\",\"django\",\"perl\"]"
   ]
  },
  {
   "cell_type": "code",
   "execution_count": 40,
   "metadata": {},
   "outputs": [],
   "source": [
    "l2 = [len(i) for i in l1]  # this is list comprehension"
   ]
  },
  {
   "cell_type": "code",
   "execution_count": 41,
   "metadata": {},
   "outputs": [
    {
     "data": {
      "text/plain": [
       "{'python': 6, 'java': 4, 'django': 6, 'perl': 4}"
      ]
     },
     "execution_count": 41,
     "metadata": {},
     "output_type": "execute_result"
    }
   ],
   "source": [
    "dict(zip(l1,l2))"
   ]
  },
  {
   "cell_type": "code",
   "execution_count": null,
   "metadata": {},
   "outputs": [],
   "source": [
    "Q5 use list comprehension and re to contain only elements form the given_list which starts with m and end with 2 digit number.\n",
    "\n",
    "\n",
    "input = ['apple45','mango36','orange67','muskmelon56']\n",
    "\n",
    "ouput = ['mango36','muskmelon56']\n",
    "\n",
    "HINT:  a matcre.search returned value works like True, if it ish, else works like false."
   ]
  },
  {
   "cell_type": "code",
   "execution_count": 49,
   "metadata": {},
   "outputs": [
    {
     "data": {
      "text/plain": [
       "False"
      ]
     },
     "execution_count": 49,
     "metadata": {},
     "output_type": "execute_result"
    }
   ],
   "source": [
    "bool(re.search(\"^m.*[0-9]{2}$\",'apple45'))"
   ]
  },
  {
   "cell_type": "code",
   "execution_count": 50,
   "metadata": {},
   "outputs": [
    {
     "data": {
      "text/plain": [
       "True"
      ]
     },
     "execution_count": 50,
     "metadata": {},
     "output_type": "execute_result"
    }
   ],
   "source": [
    "bool(re.search(\"^m.*[0-9]{2}$\",'mango36'))"
   ]
  },
  {
   "cell_type": "code",
   "execution_count": 51,
   "metadata": {},
   "outputs": [
    {
     "data": {
      "text/plain": [
       "['mango36', 'muskmelon56']"
      ]
     },
     "execution_count": 51,
     "metadata": {},
     "output_type": "execute_result"
    }
   ],
   "source": [
    "input_list = ['apple45','mango36','orange67','muskmelon56']\n",
    "\n",
    "[i for i in input_list if re.search(\"^m.*[0-9]{2}$\",i)]"
   ]
  },
  {
   "cell_type": "code",
   "execution_count": null,
   "metadata": {},
   "outputs": [],
   "source": [
    "Q6\n",
    "given_list = [1,2,3,4,'mango','apple',45,'$%']\n",
    "\n",
    "write a list comprehension that only inserts strings from the given_list in the new_list\n",
    "\n",
    "HINT\n",
    "type(\"mango\") == str => True\n",
    "type(34) == str  => False\n",
    "\n",
    "80%\n",
    "\n",
    "[output for i in list2 if i%2==0]"
   ]
  },
  {
   "cell_type": "code",
   "execution_count": 46,
   "metadata": {},
   "outputs": [
    {
     "data": {
      "text/plain": [
       "['mango', 'apple', '$%']"
      ]
     },
     "execution_count": 46,
     "metadata": {},
     "output_type": "execute_result"
    }
   ],
   "source": [
    "given_list = [1,2,3,4,'mango','apple',45,'$%']\n",
    "\n",
    "[i for i in given_list if type(i)== str]"
   ]
  },
  {
   "cell_type": "code",
   "execution_count": null,
   "metadata": {},
   "outputs": [],
   "source": [
    "Q7:\n",
    "    given_list = [1,2,3,4,5,6,7]\n",
    "    \n",
    "write a list comprehension to get double of each no.\n",
    "\n",
    "    output_list = [2,4,6,8,10,12,14] \n",
    "    \n",
    "    60%"
   ]
  },
  {
   "cell_type": "code",
   "execution_count": 47,
   "metadata": {},
   "outputs": [
    {
     "data": {
      "text/plain": [
       "[2, 4, 6, 8, 10, 12, 14]"
      ]
     },
     "execution_count": 47,
     "metadata": {},
     "output_type": "execute_result"
    }
   ],
   "source": [
    "given_list = [1,2,3,4,5,6,7]\n",
    "\n",
    "[2*i for i in given_list]"
   ]
  },
  {
   "cell_type": "code",
   "execution_count": null,
   "metadata": {},
   "outputs": [],
   "source": [
    "100% of re, list comprehension basic."
   ]
  },
  {
   "cell_type": "code",
   "execution_count": null,
   "metadata": {},
   "outputs": [],
   "source": [
    "# another version of list comprehension : for if-else case."
   ]
  },
  {
   "cell_type": "code",
   "execution_count": null,
   "metadata": {},
   "outputs": [],
   "source": [
    "list1 = [1,3,5,6]\n",
    "\n",
    "out1 = ['odd','odd','odd','even']\n",
    "\n",
    "list2 = [3,4,5]\n",
    "\n",
    "out2 = ['odd','even','odd']"
   ]
  },
  {
   "cell_type": "code",
   "execution_count": 53,
   "metadata": {},
   "outputs": [
    {
     "data": {
      "text/plain": [
       "['odd', 'even', 'odd']"
      ]
     },
     "execution_count": 53,
     "metadata": {},
     "output_type": "execute_result"
    }
   ],
   "source": [
    "list1 = [3,4,5]\n",
    "['odd' if i%2!=0 else 'even' for i in list1]"
   ]
  },
  {
   "cell_type": "code",
   "execution_count": 54,
   "metadata": {},
   "outputs": [
    {
     "data": {
      "text/plain": [
       "[(10, 1), (20, 2), (30, 3), (40, 4)]"
      ]
     },
     "execution_count": 54,
     "metadata": {},
     "output_type": "execute_result"
    }
   ],
   "source": [
    "l1 = [10,20,30,40]\n",
    "l2 = [1,2,3,4]\n",
    "\n",
    "list(zip(l1,l2))"
   ]
  },
  {
   "cell_type": "code",
   "execution_count": 55,
   "metadata": {},
   "outputs": [
    {
     "name": "stdout",
     "output_type": "stream",
     "text": [
      "10 1\n",
      "20 2\n",
      "30 3\n",
      "40 4\n"
     ]
    }
   ],
   "source": [
    "for val1,val2 in zip(l1,l2):\n",
    "    print(val1,val2)"
   ]
  },
  {
   "cell_type": "code",
   "execution_count": null,
   "metadata": {},
   "outputs": [],
   "source": [
    "l1 = [10,20,30,40]\n",
    "l2 = [1,2,3,4\n",
    "      \n",
    "[11,22,33,44]"
   ]
  },
  {
   "cell_type": "code",
   "execution_count": 56,
   "metadata": {},
   "outputs": [
    {
     "data": {
      "text/plain": [
       "[11, 22, 33, 44]"
      ]
     },
     "execution_count": 56,
     "metadata": {},
     "output_type": "execute_result"
    }
   ],
   "source": [
    "[v1+v2 for v1,v2 in zip(l1,l2)]"
   ]
  },
  {
   "cell_type": "markdown",
   "metadata": {},
   "source": [
    "## Nested loops inside list comprehension"
   ]
  },
  {
   "cell_type": "code",
   "execution_count": 57,
   "metadata": {},
   "outputs": [
    {
     "name": "stdout",
     "output_type": "stream",
     "text": [
      "10 100\n",
      "10 101\n",
      "10 102\n",
      "11 100\n",
      "11 101\n",
      "11 102\n",
      "12 100\n",
      "12 101\n",
      "12 102\n"
     ]
    }
   ],
   "source": [
    "for val1 in range(10,13):\n",
    "    for val2 in range(100,103):\n",
    "        print(val1,val2)"
   ]
  },
  {
   "cell_type": "code",
   "execution_count": 58,
   "metadata": {},
   "outputs": [
    {
     "data": {
      "text/plain": [
       "[(10, 100),\n",
       " (10, 101),\n",
       " (10, 102),\n",
       " (11, 100),\n",
       " (11, 101),\n",
       " (11, 102),\n",
       " (12, 100),\n",
       " (12, 101),\n",
       " (12, 102)]"
      ]
     },
     "execution_count": 58,
     "metadata": {},
     "output_type": "execute_result"
    }
   ],
   "source": [
    "[(val1,val2) for val1 in range(10,13) for val2 in range(100,103)]"
   ]
  },
  {
   "cell_type": "code",
   "execution_count": 59,
   "metadata": {},
   "outputs": [
    {
     "name": "stdout",
     "output_type": "stream",
     "text": [
      "[1, 2, 3, 4, 5, 6, 7, 8, 9]\n"
     ]
    }
   ],
   "source": [
    "l1 = [[1,2,3],[4,5,6],[7,8,9]]\n",
    "\n",
    "# l2 = [1,2,3,4,5,6,7,8,9]\n",
    "\n",
    "l2 = []\n",
    "\n",
    "for small_list in l1:\n",
    "    for no in small_list:\n",
    "        l2.append(no)\n",
    "        \n",
    "print(l2)"
   ]
  },
  {
   "cell_type": "code",
   "execution_count": null,
   "metadata": {},
   "outputs": [],
   "source": [
    "list comprehension?"
   ]
  },
  {
   "cell_type": "code",
   "execution_count": 60,
   "metadata": {},
   "outputs": [
    {
     "data": {
      "text/plain": [
       "[1, 2, 3, 4, 5, 6, 7, 8, 9]"
      ]
     },
     "execution_count": 60,
     "metadata": {},
     "output_type": "execute_result"
    }
   ],
   "source": [
    "[no for small_list in l1 for no in small_list]"
   ]
  },
  {
   "cell_type": "code",
   "execution_count": null,
   "metadata": {},
   "outputs": [],
   "source": [
    "NOTE: YOU CAN CONVERT EVERY LIST COMPREHENSION INTO FOR LOOPS.\n",
    "    BUT\n",
    "    YOU CAN NOT CONVERT EVERY FOR LOOP INTO LIST COMPREHENSION.\n",
    "    \n",
    "    \n",
    "Homework: FIND WHAT KIND OF FOR LOOP CAN NOT BE CONVERTED INTO A LIST COMPREHENSION. "
   ]
  },
  {
   "cell_type": "code",
   "execution_count": null,
   "metadata": {},
   "outputs": [],
   "source": [
    "BONUS SECTION:\n",
    "    DICT COMPREHENSION"
   ]
  },
  {
   "cell_type": "code",
   "execution_count": 64,
   "metadata": {},
   "outputs": [
    {
     "data": {
      "text/plain": [
       "{'a': 97, 'b': 98, 'c': 99, 'z': 122}"
      ]
     },
     "execution_count": 64,
     "metadata": {},
     "output_type": "execute_result"
    }
   ],
   "source": [
    "list1 = ['a','b','c','z']\n",
    "\n",
    "# convert it into a dict with no:ascii value as value.\n",
    "    \n",
    "{i:ord(i) for i in list1}"
   ]
  },
  {
   "cell_type": "code",
   "execution_count": 65,
   "metadata": {},
   "outputs": [
    {
     "data": {
      "text/plain": [
       "{'python': 6, 'django': 6, 'mango': 5}"
      ]
     },
     "execution_count": 65,
     "metadata": {},
     "output_type": "execute_result"
    }
   ],
   "source": [
    "list2 = ['python','django','mango']\n",
    "\n",
    "{i:len(i) for i in list2}"
   ]
  },
  {
   "cell_type": "code",
   "execution_count": 66,
   "metadata": {},
   "outputs": [
    {
     "data": {
      "text/plain": [
       "{'python': 6, 'django': 6, 'mango': 5}"
      ]
     },
     "execution_count": 66,
     "metadata": {},
     "output_type": "execute_result"
    }
   ],
   "source": [
    "list2 = ['python',3,'django',1,2,'mango']\n",
    "\n",
    "{i:len(i) for i in list2 if type(i)==str}"
   ]
  },
  {
   "cell_type": "code",
   "execution_count": null,
   "metadata": {},
   "outputs": [],
   "source": []
  }
 ],
 "metadata": {
  "kernelspec": {
   "display_name": "Python 3",
   "language": "python",
   "name": "python3"
  },
  "language_info": {
   "codemirror_mode": {
    "name": "ipython",
    "version": 3
   },
   "file_extension": ".py",
   "mimetype": "text/x-python",
   "name": "python",
   "nbconvert_exporter": "python",
   "pygments_lexer": "ipython3",
   "version": "3.8.3"
  }
 },
 "nbformat": 4,
 "nbformat_minor": 4
}
