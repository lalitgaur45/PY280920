{
 "cells": [
  {
   "cell_type": "code",
   "execution_count": null,
   "metadata": {},
   "outputs": [],
   "source": [
    "S1 = {10,20,30,40,50}\n",
    "S2 = {40,50,60,70,80}\n",
    "\n",
    "S1 UNION S2 => ?"
   ]
  },
  {
   "cell_type": "code",
   "execution_count": null,
   "metadata": {},
   "outputs": [],
   "source": [
    "S1 = {10,20,30,40,50}\n",
    "S2 = {40,50,60,70,80}\n",
    "\n",
    "S1.INTERSECTION(S2)"
   ]
  },
  {
   "cell_type": "code",
   "execution_count": null,
   "metadata": {},
   "outputs": [],
   "source": [
    "S1.DIFFERENCE(S2) ?\n",
    "S2.DIFFERENCE(S1) ?\n",
    "\n",
    "S1.SYMM DIFF(S2) ?\n",
    "S2.SYMM DIFF(S1) ?\n"
   ]
  },
  {
   "cell_type": "code",
   "execution_count": null,
   "metadata": {},
   "outputs": [],
   "source": [
    "wHY FUNCTIONS?\n",
    "=>mODULARITY \n",
    "=>REUSABILITY"
   ]
  },
  {
   "cell_type": "code",
   "execution_count": null,
   "metadata": {},
   "outputs": [],
   "source": [
    "VARIABLE ARGUMENTS ?\n",
    "\n",
    "*ARGS AND **KWARGS\n",
    "\n",
    "**KWARGS WITH NAMED ARGUMENTS"
   ]
  },
  {
   "cell_type": "code",
   "execution_count": null,
   "metadata": {},
   "outputs": [],
   "source": [
    "DEFAULT ARGUMNETS?\n",
    "\n",
    "DEF ABC(X = 3):\n",
    "    PASS\n",
    "ABC()\n",
    "\n",
    "ABC(X=5)"
   ]
  },
  {
   "cell_type": "code",
   "execution_count": null,
   "metadata": {},
   "outputs": [],
   "source": [
    "PACKING AND UNPACKING? => VARIABLE ARGUMENTS?"
   ]
  },
  {
   "cell_type": "code",
   "execution_count": null,
   "metadata": {},
   "outputs": [],
   "source": [
    "## RECURSION?"
   ]
  },
  {
   "cell_type": "code",
   "execution_count": null,
   "metadata": {},
   "outputs": [],
   "source": [
    "FILE OPERATIONS?"
   ]
  },
  {
   "cell_type": "code",
   "execution_count": null,
   "metadata": {},
   "outputs": [],
   "source": [
    "reAD, WRITE , OPENING AND CLOSING"
   ]
  },
  {
   "cell_type": "code",
   "execution_count": 2,
   "metadata": {},
   "outputs": [],
   "source": [
    "fo = open(\"test1\",\"w+\")\n",
    "\n",
    "for i in range(1,10):\n",
    "    string_to_be_written = \"karthik\"+str(i)+\"\\n\"\n",
    "    fo.write(string_to_be_written)\n",
    "    \n",
    "fo.close()"
   ]
  },
  {
   "cell_type": "code",
   "execution_count": null,
   "metadata": {},
   "outputs": [],
   "source": [
    "modes in file operations:\n",
    "    w+ means that you want to write to a file, if it does not exist create one.\n",
    "    w+ overwrites the content of the file.\n",
    "    \n",
    "r,r+,w,w+,a,a+\n",
    "r =>read\n",
    "w =>write\n",
    "a =>append \n",
    "a+ =>append and read also.\n",
    "\n",
    "\n",
    "what does append mean?\n",
    "add at the end.\n",
    "\n",
    "modes in which file will be created if not present:\n",
    "    w,a,w+,a+"
   ]
  },
  {
   "cell_type": "code",
   "execution_count": 4,
   "metadata": {},
   "outputs": [],
   "source": [
    "fo = open(\"test1\",\"a+\")\n",
    "\n",
    "for i in range(1,10):\n",
    "    string_to_be_written = \"ankita\"+str(i)+\"\\n\"\n",
    "    fo.write(string_to_be_written)\n",
    "    \n",
    "fo.close()"
   ]
  },
  {
   "cell_type": "code",
   "execution_count": 8,
   "metadata": {},
   "outputs": [],
   "source": [
    "fo = open(\"test4\",\"a\")\n",
    "\n",
    "for i in range(1,10):\n",
    "    string_to_be_written = \"karthik\"+str(i)+\"\\n\"\n",
    "    fo.write(string_to_be_written)\n",
    "    \n",
    "fo.close()"
   ]
  },
  {
   "cell_type": "code",
   "execution_count": 9,
   "metadata": {},
   "outputs": [],
   "source": [
    "fo = open(\"test5\",\"a+\")\n",
    "\n",
    "for i in range(1,10):\n",
    "    string_to_be_written = \"karthik\"+str(i)+\"\\n\"\n",
    "    fo.write(string_to_be_written)\n",
    "    \n",
    "fo.close()"
   ]
  },
  {
   "cell_type": "code",
   "execution_count": null,
   "metadata": {},
   "outputs": [],
   "source": [
    "# read(size)"
   ]
  },
  {
   "cell_type": "code",
   "execution_count": 10,
   "metadata": {},
   "outputs": [
    {
     "name": "stdout",
     "output_type": "stream",
     "text": [
      "karthik1\n",
      "karthik2\n",
      "karthik3\n",
      "karthik4\n",
      "karthik5\n",
      "karthik6\n",
      "karthik7\n",
      "karthik8\n",
      "karthik9\n",
      "\n"
     ]
    }
   ],
   "source": [
    "fo = open(\"test5\",\"r\")\n",
    "\n",
    "content = fo.read()\n",
    "\n",
    "print(content)\n",
    "\n",
    "fo.close()"
   ]
  },
  {
   "cell_type": "code",
   "execution_count": 13,
   "metadata": {},
   "outputs": [
    {
     "name": "stdout",
     "output_type": "stream",
     "text": [
      "kar\n",
      "thik\n",
      "1\n",
      "ka\n"
     ]
    }
   ],
   "source": [
    "fo = open(\"test5\",\"r\")\n",
    "\n",
    "content = fo.read(3)\n",
    "content2 = fo.read(4)\n",
    "content3 = fo.read(4)\n",
    "print(content)\n",
    "\n",
    "print(content2)\n",
    "\n",
    "print(content3)\n",
    "\n",
    "fo.close()"
   ]
  },
  {
   "cell_type": "code",
   "execution_count": 15,
   "metadata": {},
   "outputs": [
    {
     "name": "stdout",
     "output_type": "stream",
     "text": [
      "kar\n",
      "thik\n",
      "1\n",
      "ka\n"
     ]
    }
   ],
   "source": [
    "fo = open(\"test5\",\"r+\")\n",
    "\n",
    "content = fo.read(3)\n",
    "content2 = fo.read(4)\n",
    "content3 = fo.read(4)\n",
    "print(content)\n",
    "\n",
    "print(content2)\n",
    "\n",
    "print(content3)\n",
    "\n",
    "fo.write(\"will I get an error?\")\n",
    "\n",
    "fo.close()"
   ]
  },
  {
   "cell_type": "code",
   "execution_count": null,
   "metadata": {},
   "outputs": [],
   "source": [
    "+ plus thing give more than one mode kind of functionality.\n",
    "\n",
    "r+ => read and write\n",
    "w+ => read and write but it overwrites, and also creates the file if it DNE"
   ]
  },
  {
   "cell_type": "code",
   "execution_count": 18,
   "metadata": {},
   "outputs": [
    {
     "name": "stdout",
     "output_type": "stream",
     "text": [
      "\n",
      "\n",
      "\n",
      "\n"
     ]
    }
   ],
   "source": [
    "fo = open(\"test5\",\"w+\")\n",
    "\n",
    "content = fo.read(3)\n",
    "content2 = fo.read(4)\n",
    "content3 = fo.read(4)\n",
    "print(content)\n",
    "\n",
    "print(content2)\n",
    "\n",
    "print(content3)\n",
    "\n",
    "fo.write(\"will I get an error?\")\n",
    "\n",
    "content_later = fo.read()\n",
    "print(content_later)\n",
    "\n",
    "fo.close()"
   ]
  },
  {
   "cell_type": "code",
   "execution_count": 19,
   "metadata": {},
   "outputs": [
    {
     "name": "stdout",
     "output_type": "stream",
     "text": [
      "['karthik1\\n', 'karthik2\\n', 'karthik3\\n', 'karthik4\\n', 'karthik5\\n', 'karthik6\\n', 'karthik7\\n', 'karthik8\\n', 'karthik9\\n']\n"
     ]
    }
   ],
   "source": [
    "fo = open(\"test3\",\"r+\")\n",
    "\n",
    "content = fo.readlines()\n",
    "\n",
    "print(content)\n",
    "\n",
    "fo.close()"
   ]
  },
  {
   "cell_type": "code",
   "execution_count": 20,
   "metadata": {},
   "outputs": [
    {
     "name": "stdout",
     "output_type": "stream",
     "text": [
      "karthik1\n",
      "\n",
      "karthik2\n",
      "\n",
      "karthik3\n",
      "\n",
      "karthik4\n",
      "\n",
      "karthik5\n",
      "\n",
      "karthik6\n",
      "\n",
      "karthik7\n",
      "\n",
      "karthik8\n",
      "\n",
      "karthik9\n",
      "\n"
     ]
    }
   ],
   "source": [
    "for i in content:\n",
    "    print(i)"
   ]
  },
  {
   "cell_type": "code",
   "execution_count": null,
   "metadata": {},
   "outputs": [],
   "source": [
    "Question: Write numbers from 1 to 10 in a file, and read them again and print their sum.\n",
    "    \n",
    "    1) Open a file and write numbers from 1 to 10 each in a new line.\n",
    "    2) Open the file again and read the numbers and sum them.\n",
    "    \n",
    "    \n",
    "    \n",
    "Bonus Question: Print only even numbers and sum all the oddnumbers."
   ]
  },
  {
   "cell_type": "code",
   "execution_count": 21,
   "metadata": {},
   "outputs": [
    {
     "name": "stdout",
     "output_type": "stream",
     "text": [
      "45 <class 'int'>\n"
     ]
    }
   ],
   "source": [
    "# type casting\n",
    "string = \"45\"\n",
    "\n",
    "x = int(string)\n",
    "\n",
    "print(x,type(x))"
   ]
  },
  {
   "cell_type": "code",
   "execution_count": 22,
   "metadata": {},
   "outputs": [],
   "source": [
    "fo = open(\"numbers\",\"w+\")\n",
    "\n",
    "for i in range(1,11):\n",
    "    number = str(i)+\"\\n\"\n",
    "    fo.write(number)\n",
    "    \n",
    "fo.close()"
   ]
  },
  {
   "cell_type": "code",
   "execution_count": 23,
   "metadata": {},
   "outputs": [
    {
     "name": "stdout",
     "output_type": "stream",
     "text": [
      "2\n",
      "4\n",
      "6\n",
      "8\n",
      "10\n",
      "25\n"
     ]
    }
   ],
   "source": [
    "fo = open(\"numbers\",\"r+\")\n",
    "\n",
    "content = fo.readlines()\n",
    "\n",
    "odd_number_sum = 0\n",
    "for line in content:\n",
    "    no = int(line)\n",
    "    if no%2==0:\n",
    "        print(no)\n",
    "    else:\n",
    "        odd_number_sum += no\n",
    "        \n",
    "print(odd_number_sum)"
   ]
  },
  {
   "cell_type": "code",
   "execution_count": null,
   "metadata": {},
   "outputs": [],
   "source": []
  }
 ],
 "metadata": {
  "kernelspec": {
   "display_name": "Python 3",
   "language": "python",
   "name": "python3"
  },
  "language_info": {
   "codemirror_mode": {
    "name": "ipython",
    "version": 3
   },
   "file_extension": ".py",
   "mimetype": "text/x-python",
   "name": "python",
   "nbconvert_exporter": "python",
   "pygments_lexer": "ipython3",
   "version": "3.8.3"
  }
 },
 "nbformat": 4,
 "nbformat_minor": 4
}
