{
 "cells": [
  {
   "cell_type": "code",
   "execution_count": 5,
   "metadata": {},
   "outputs": [],
   "source": [
    "class Animal:\n",
    "    def __init__(self,name):\n",
    "        print(\"Animal\")\n",
    "        self.name = name\n",
    "        \n",
    "class Dog(Animal):\n",
    "    def __init__(self,name,age):\n",
    "        print(\"Dog\")\n",
    "        super().__init__(name)\n",
    "        self.age = age"
   ]
  },
  {
   "cell_type": "code",
   "execution_count": 6,
   "metadata": {},
   "outputs": [
    {
     "name": "stdout",
     "output_type": "stream",
     "text": [
      "Dog\n",
      "Animal\n"
     ]
    }
   ],
   "source": [
    "yuki = Dog(\"yuki singh\",5)"
   ]
  },
  {
   "cell_type": "code",
   "execution_count": 7,
   "metadata": {},
   "outputs": [
    {
     "name": "stdout",
     "output_type": "stream",
     "text": [
      "Help on Dog in module __main__ object:\n",
      "\n",
      "class Dog(Animal)\n",
      " |  Dog(name, age)\n",
      " |  \n",
      " |  Method resolution order:\n",
      " |      Dog\n",
      " |      Animal\n",
      " |      builtins.object\n",
      " |  \n",
      " |  Methods defined here:\n",
      " |  \n",
      " |  __init__(self, name, age)\n",
      " |      Initialize self.  See help(type(self)) for accurate signature.\n",
      " |  \n",
      " |  ----------------------------------------------------------------------\n",
      " |  Data descriptors inherited from Animal:\n",
      " |  \n",
      " |  __dict__\n",
      " |      dictionary for instance variables (if defined)\n",
      " |  \n",
      " |  __weakref__\n",
      " |      list of weak references to the object (if defined)\n",
      "\n"
     ]
    }
   ],
   "source": [
    "help(yuki)"
   ]
  },
  {
   "cell_type": "code",
   "execution_count": 8,
   "metadata": {},
   "outputs": [
    {
     "name": "stdout",
     "output_type": "stream",
     "text": [
      "Labrador\n",
      "Dog\n",
      "Animal\n",
      "\n",
      "\n",
      "German Shephard\n",
      "Dog\n",
      "Animal\n"
     ]
    }
   ],
   "source": [
    "## HIERARCHICAL INHERITANCE\n",
    "\n",
    "class Animal:\n",
    "    def __init__(self,name):\n",
    "        print(\"Animal\")\n",
    "        self.name = name\n",
    "        \n",
    "class Dog(Animal):\n",
    "    def __init__(self,name,age):\n",
    "        print(\"Dog\")\n",
    "        super().__init__(name)\n",
    "        self.age = age\n",
    "        \n",
    "class Labrador(Dog):\n",
    "    def __init__(self,name,age,color):\n",
    "        print(\"Labrador\")\n",
    "        super().__init__(name,age)\n",
    "        self.color = color\n",
    "        \n",
    "class German_Shephard(Dog):\n",
    "    def __init__(self,name,age,color):\n",
    "        print(\"German Shephard\")\n",
    "        super().__init__(name,age)\n",
    "        self.color = color\n",
    "        \n",
    "yuki = Labrador(\"yuki singh\",4,\"Silver\")\n",
    "print(\"\\n\")\n",
    "mac = German_Shephard(\"mac singh\",5,\"Mixed Tan and Black\")"
   ]
  },
  {
   "cell_type": "code",
   "execution_count": 9,
   "metadata": {},
   "outputs": [
    {
     "name": "stdout",
     "output_type": "stream",
     "text": [
      "Help on Labrador in module __main__ object:\n",
      "\n",
      "class Labrador(Dog)\n",
      " |  Labrador(name, age, color)\n",
      " |  \n",
      " |  Method resolution order:\n",
      " |      Labrador\n",
      " |      Dog\n",
      " |      Animal\n",
      " |      builtins.object\n",
      " |  \n",
      " |  Methods defined here:\n",
      " |  \n",
      " |  __init__(self, name, age, color)\n",
      " |      Initialize self.  See help(type(self)) for accurate signature.\n",
      " |  \n",
      " |  ----------------------------------------------------------------------\n",
      " |  Data descriptors inherited from Animal:\n",
      " |  \n",
      " |  __dict__\n",
      " |      dictionary for instance variables (if defined)\n",
      " |  \n",
      " |  __weakref__\n",
      " |      list of weak references to the object (if defined)\n",
      "\n"
     ]
    }
   ],
   "source": [
    "help(yuki)"
   ]
  },
  {
   "cell_type": "code",
   "execution_count": 10,
   "metadata": {},
   "outputs": [
    {
     "name": "stdout",
     "output_type": "stream",
     "text": [
      "Help on German_Shephard in module __main__ object:\n",
      "\n",
      "class German_Shephard(Dog)\n",
      " |  German_Shephard(name, age, color)\n",
      " |  \n",
      " |  Method resolution order:\n",
      " |      German_Shephard\n",
      " |      Dog\n",
      " |      Animal\n",
      " |      builtins.object\n",
      " |  \n",
      " |  Methods defined here:\n",
      " |  \n",
      " |  __init__(self, name, age, color)\n",
      " |      Initialize self.  See help(type(self)) for accurate signature.\n",
      " |  \n",
      " |  ----------------------------------------------------------------------\n",
      " |  Data descriptors inherited from Animal:\n",
      " |  \n",
      " |  __dict__\n",
      " |      dictionary for instance variables (if defined)\n",
      " |  \n",
      " |  __weakref__\n",
      " |      list of weak references to the object (if defined)\n",
      "\n"
     ]
    }
   ],
   "source": [
    "help(mac)"
   ]
  },
  {
   "cell_type": "code",
   "execution_count": 27,
   "metadata": {},
   "outputs": [],
   "source": [
    "## Multiple Inheritance\n",
    "\n",
    "class A:\n",
    "    def __init__(self):\n",
    "        print(\"inside A\")\n",
    "        \n",
    "    def fun(self):\n",
    "        print(\"fun of A\")\n",
    "\n",
    "class B:\n",
    "#     def __init__(self):\n",
    "#         print(\"inside B\")\n",
    "        \n",
    "    def fun(self):\n",
    "        print(\"fun of B\")\n",
    "        \n",
    "class C:\n",
    "    def __init__(self):\n",
    "        print(\"inside C\")\n",
    "        \n",
    "    def fun(self):\n",
    "        print(\"fun of C\")\n",
    "        \n",
    "class X(B,A,C):\n",
    "    def __init__(self):\n",
    "        print(\"inside X\")\n",
    "        super().__init__()\n",
    "        \n",
    "    def fun(self):\n",
    "        print(\"fun of X\")"
   ]
  },
  {
   "cell_type": "code",
   "execution_count": 28,
   "metadata": {},
   "outputs": [
    {
     "name": "stdout",
     "output_type": "stream",
     "text": [
      "inside X\n",
      "inside A\n"
     ]
    }
   ],
   "source": [
    "obj_ref = X()"
   ]
  },
  {
   "cell_type": "code",
   "execution_count": 15,
   "metadata": {},
   "outputs": [
    {
     "name": "stdout",
     "output_type": "stream",
     "text": [
      "fun of X\n"
     ]
    }
   ],
   "source": [
    "obj_ref.fun()"
   ]
  },
  {
   "cell_type": "code",
   "execution_count": 29,
   "metadata": {},
   "outputs": [
    {
     "name": "stdout",
     "output_type": "stream",
     "text": [
      "Help on X in module __main__ object:\n",
      "\n",
      "class X(B, A, C)\n",
      " |  Method resolution order:\n",
      " |      X\n",
      " |      B\n",
      " |      A\n",
      " |      C\n",
      " |      builtins.object\n",
      " |  \n",
      " |  Methods defined here:\n",
      " |  \n",
      " |  __init__(self)\n",
      " |      Initialize self.  See help(type(self)) for accurate signature.\n",
      " |  \n",
      " |  fun(self)\n",
      " |  \n",
      " |  ----------------------------------------------------------------------\n",
      " |  Data descriptors inherited from B:\n",
      " |  \n",
      " |  __dict__\n",
      " |      dictionary for instance variables (if defined)\n",
      " |  \n",
      " |  __weakref__\n",
      " |      list of weak references to the object (if defined)\n",
      "\n"
     ]
    }
   ],
   "source": [
    "help(obj_ref)"
   ]
  },
  {
   "cell_type": "code",
   "execution_count": 30,
   "metadata": {},
   "outputs": [],
   "source": [
    "## hybrid inheritance"
   ]
  },
  {
   "cell_type": "code",
   "execution_count": 36,
   "metadata": {},
   "outputs": [],
   "source": [
    "class X:\n",
    "    def __init__(self):\n",
    "        print(\"inside X\")\n",
    "        \n",
    "    def fun(self):\n",
    "        print(\"fun of X\")\n",
    "\n",
    "class A(X):\n",
    "#     def __init__(self):\n",
    "#         print(\"inside A\")\n",
    "        \n",
    "    def fun(self):\n",
    "        print(\"fun of A\")\n",
    "\n",
    "class B(X):\n",
    "#     def __init__(self):\n",
    "#         print(\"inside B\")\n",
    "        \n",
    "    def fun(self):\n",
    "        print(\"fun of B\")\n",
    "\n",
    "class C(A,B):\n",
    "    def __init__(self):\n",
    "        print(\"inside C\")\n",
    "        super().__init__()\n",
    "        \n",
    "    def fun(self):\n",
    "        print(\"fun of C\")"
   ]
  },
  {
   "cell_type": "code",
   "execution_count": 37,
   "metadata": {},
   "outputs": [
    {
     "name": "stdout",
     "output_type": "stream",
     "text": [
      "inside C\n",
      "inside X\n"
     ]
    }
   ],
   "source": [
    "obj_ref = C()"
   ]
  },
  {
   "cell_type": "code",
   "execution_count": 33,
   "metadata": {},
   "outputs": [
    {
     "name": "stdout",
     "output_type": "stream",
     "text": [
      "Help on C in module __main__ object:\n",
      "\n",
      "class C(A, B)\n",
      " |  Method resolution order:\n",
      " |      C\n",
      " |      A\n",
      " |      B\n",
      " |      X\n",
      " |      builtins.object\n",
      " |  \n",
      " |  Methods defined here:\n",
      " |  \n",
      " |  __init__(self)\n",
      " |      Initialize self.  See help(type(self)) for accurate signature.\n",
      " |  \n",
      " |  fun(self)\n",
      " |  \n",
      " |  ----------------------------------------------------------------------\n",
      " |  Data descriptors inherited from X:\n",
      " |  \n",
      " |  __dict__\n",
      " |      dictionary for instance variables (if defined)\n",
      " |  \n",
      " |  __weakref__\n",
      " |      list of weak references to the object (if defined)\n",
      "\n"
     ]
    }
   ],
   "source": [
    "help(obj_ref)"
   ]
  },
  {
   "cell_type": "code",
   "execution_count": null,
   "metadata": {},
   "outputs": [],
   "source": [
    "## hybrid inheritance "
   ]
  },
  {
   "cell_type": "code",
   "execution_count": 38,
   "metadata": {},
   "outputs": [],
   "source": [
    "class Z:\n",
    "    def __init__(self):\n",
    "        print(\"inside Z\")\n",
    "        \n",
    "    def fun(self):\n",
    "        print(\"fun of Z\")\n",
    "        \n",
    "class M(Z):\n",
    "    def __init__(self):\n",
    "        print(\"inside M\")\n",
    "        \n",
    "    def fun(self):\n",
    "        print(\"fun of M\")\n",
    "\n",
    "class N(Z):\n",
    "    def __init__(self):\n",
    "        print(\"inside N\")\n",
    "        \n",
    "    def fun(self):\n",
    "        print(\"fun of N\")\n",
    "\n",
    "class A(M):\n",
    "    def __init__(self):\n",
    "        print(\"inside A\")\n",
    "        \n",
    "    def fun(self):\n",
    "        print(\"fun of A\")\n",
    "\n",
    "class B(N):\n",
    "    def __init__(self):\n",
    "        print(\"inside B\")\n",
    "        \n",
    "    def fun(self):\n",
    "        print(\"fun of B\")\n",
    "        \n",
    "class X(A,B):\n",
    "    def __init__(self):\n",
    "        print(\"inside X\")\n",
    "        \n",
    "    def fun(self):\n",
    "        print(\"fun of X\")"
   ]
  },
  {
   "cell_type": "code",
   "execution_count": 39,
   "metadata": {},
   "outputs": [
    {
     "name": "stdout",
     "output_type": "stream",
     "text": [
      "inside X\n"
     ]
    }
   ],
   "source": [
    "obj_ref = X()"
   ]
  },
  {
   "cell_type": "code",
   "execution_count": 40,
   "metadata": {},
   "outputs": [
    {
     "name": "stdout",
     "output_type": "stream",
     "text": [
      "Help on X in module __main__ object:\n",
      "\n",
      "class X(A, B)\n",
      " |  Method resolution order:\n",
      " |      X\n",
      " |      A\n",
      " |      M\n",
      " |      B\n",
      " |      N\n",
      " |      Z\n",
      " |      builtins.object\n",
      " |  \n",
      " |  Methods defined here:\n",
      " |  \n",
      " |  __init__(self)\n",
      " |      Initialize self.  See help(type(self)) for accurate signature.\n",
      " |  \n",
      " |  fun(self)\n",
      " |  \n",
      " |  ----------------------------------------------------------------------\n",
      " |  Data descriptors inherited from Z:\n",
      " |  \n",
      " |  __dict__\n",
      " |      dictionary for instance variables (if defined)\n",
      " |  \n",
      " |  __weakref__\n",
      " |      list of weak references to the object (if defined)\n",
      "\n"
     ]
    }
   ],
   "source": [
    "help(obj_ref)"
   ]
  },
  {
   "cell_type": "code",
   "execution_count": 71,
   "metadata": {},
   "outputs": [],
   "source": [
    "## Access Specifiers\n",
    "\n",
    "-> By default var and methods are public\n",
    "\n",
    "-> Private: (__varname) (you should only access these inside the same class) [Double underscore]\n",
    "    \n",
    "-> Protected: (_varname) (These should be accessed inside the inherited clssess as well!!) [Single underscore]"
   ]
  },
  {
   "cell_type": "code",
   "execution_count": null,
   "metadata": {},
   "outputs": [],
   "source": [
    "## public example: by default"
   ]
  },
  {
   "cell_type": "code",
   "execution_count": 59,
   "metadata": {},
   "outputs": [
    {
     "name": "stdout",
     "output_type": "stream",
     "text": [
      "3\n",
      "happy after eating\n",
      "outside the classes 3\n"
     ]
    }
   ],
   "source": [
    "class A:\n",
    "    def eatmethod(self):\n",
    "        self.eat = 3\n",
    "        \n",
    "class B(A):\n",
    "    def happy(self):\n",
    "        self.eatmethod()\n",
    "        print(self.eat)\n",
    "        print(\"happy after eating\")\n",
    "        \n",
    "obj_ref = B()\n",
    "\n",
    "obj_ref.happy()\n",
    "\n",
    "print(\"outside the classes\",obj_ref.eat)"
   ]
  },
  {
   "cell_type": "code",
   "execution_count": 64,
   "metadata": {},
   "outputs": [],
   "source": [
    "## private example: _ (double underscore)"
   ]
  },
  {
   "cell_type": "code",
   "execution_count": 2,
   "metadata": {},
   "outputs": [
    {
     "name": "stdout",
     "output_type": "stream",
     "text": [
      "inside printeat  3\n",
      "happy after eating\n"
     ]
    }
   ],
   "source": [
    "class A:\n",
    "    def eatmethod(self):\n",
    "        self.__eat = 3\n",
    "        \n",
    "    def printeat(self):\n",
    "        print(\"inside printeat \",self.__eat)\n",
    "        \n",
    "        \n",
    "class B(A):\n",
    "    def happy(self):\n",
    "        super().eatmethod()\n",
    "#         print(self.__eat)\n",
    "        super().printeat()\n",
    "        print(\"happy after eating\")\n",
    "        \n",
    "obj_ref = B()\n",
    "\n",
    "obj_ref.happy()\n",
    "\n",
    "# print(\"outside the classes\",obj_ref.__eat)"
   ]
  },
  {
   "cell_type": "code",
   "execution_count": null,
   "metadata": {},
   "outputs": [],
   "source": [
    "## protected example"
   ]
  },
  {
   "cell_type": "code",
   "execution_count": 75,
   "metadata": {},
   "outputs": [
    {
     "name": "stdout",
     "output_type": "stream",
     "text": [
      "3\n",
      "happy after eating\n",
      "outside the classes 3\n"
     ]
    }
   ],
   "source": [
    "class A:\n",
    "    def eatmethod(self):\n",
    "        self._eat = 3\n",
    "        \n",
    "    def printeat(self):\n",
    "        print(\"inside printeat \",self._eat)\n",
    "        \n",
    "        \n",
    "class B(A):\n",
    "    def happy(self):\n",
    "        super().eatmethod()\n",
    "        print(self._eat)\n",
    "#         super().printeat()\n",
    "        print(\"happy after eating\")\n",
    "        \n",
    "obj_ref = B()\n",
    "\n",
    "obj_ref.happy()\n",
    "\n",
    "print(\"outside the classes\",obj_ref._eat) ## should not be doing this."
   ]
  },
  {
   "cell_type": "code",
   "execution_count": null,
   "metadata": {},
   "outputs": [],
   "source": [
    "tomorrow: access specifiers.\n",
    "          exception handling."
   ]
  }
 ],
 "metadata": {
  "kernelspec": {
   "display_name": "Python 3",
   "language": "python",
   "name": "python3"
  },
  "language_info": {
   "codemirror_mode": {
    "name": "ipython",
    "version": 3
   },
   "file_extension": ".py",
   "mimetype": "text/x-python",
   "name": "python",
   "nbconvert_exporter": "python",
   "pygments_lexer": "ipython3",
   "version": "3.8.3"
  }
 },
 "nbformat": 4,
 "nbformat_minor": 4
}
