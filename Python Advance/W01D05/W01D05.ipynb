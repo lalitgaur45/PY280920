{
 "cells": [
  {
   "cell_type": "code",
   "execution_count": null,
   "metadata": {},
   "outputs": [],
   "source": [
    "## MODULE:\n",
    ".py file which contain python codes.\n",
    "\n",
    "## functions?\n",
    "\n",
    "\n",
    "def function_name(arg1,arg2):\n",
    "    statement1\n",
    "    statement2\n",
    "    return something\n",
    "\n",
    "None\n",
    "\n",
    "2 most imp. things about set and dict:\n",
    "    1)keys should be unique\n",
    "    2) \" \" immutable\n",
    "    \n",
    "Immutable?\n",
    "cant update,editing,delete\n",
    "\n",
    "break?\n",
    "gets us out of loop instantly\n",
    "\n",
    "for i in range(1,10):\n",
    "    for j in range(1,10):\n",
    "        break\n",
    "        \n",
    "1)inner\n",
    "2)outer\n",
    "3)both\n",
    "\n",
    "inner loop\n",
    "\n",
    "continue?\n",
    "skip the current iteration and move to the next one.\n",
    "skip all the statement left to be executed after continue in that iteration.\n",
    "\n",
    "iterables?\n",
    "are the datatype through which we can iterate."
   ]
  },
  {
   "cell_type": "code",
   "execution_count": 3,
   "metadata": {},
   "outputs": [
    {
     "name": "stdout",
     "output_type": "stream",
     "text": [
      "1 2\n",
      "12 24\n"
     ]
    }
   ],
   "source": [
    "default arguments?\n",
    "def fun(a,b=24):\n",
    "    print(a,b)\n",
    "    \n",
    "fun(1,2)\n",
    "fun(12)"
   ]
  },
  {
   "cell_type": "code",
   "execution_count": 5,
   "metadata": {},
   "outputs": [
    {
     "name": "stdout",
     "output_type": "stream",
     "text": [
      "100 500\n"
     ]
    }
   ],
   "source": [
    "# named arguments?\n",
    "\n",
    "def fun(a,b):\n",
    "    print(a,b)\n",
    "\n",
    "fun(b=500,a=100)\n",
    "\n",
    "# 1)500,100\n",
    "# 2)100,500"
   ]
  },
  {
   "cell_type": "code",
   "execution_count": null,
   "metadata": {},
   "outputs": [],
   "source": [
    "#Variable Arguments\n",
    "\n",
    "When we want to pass varible no. of arguments in the function.\n",
    "\n",
    "->packing\n",
    "->unpakcing\n",
    "\n",
    "*args => tuple\n",
    "**kwargs => dictionary (named)"
   ]
  },
  {
   "cell_type": "code",
   "execution_count": 6,
   "metadata": {},
   "outputs": [
    {
     "name": "stdout",
     "output_type": "stream",
     "text": [
      "(1, 2, 3, 4) <class 'tuple'>\n",
      "(1, 2, 3) <class 'tuple'>\n"
     ]
    }
   ],
   "source": [
    "# packing:\n",
    "    \n",
    "# 1,2,3,4 => (1,2,3,4)\n",
    "# 1,2,3 => (1,2,3)\n",
    "    \n",
    "def task(*args):\n",
    "    print(args,type(args))\n",
    "    \n",
    "task(1,2,3,4)\n",
    "task(1,2,3)"
   ]
  },
  {
   "cell_type": "code",
   "execution_count": 8,
   "metadata": {},
   "outputs": [
    {
     "name": "stdout",
     "output_type": "stream",
     "text": [
      "{'physics': 100, 'maths': 89, 'chemistry': 85} <class 'dict'>\n",
      "Hi my marks in physics are 100\n"
     ]
    }
   ],
   "source": [
    "# physics=100,maths = 89,chemistry = 85 \n",
    "# => {\"physics\":100,\"maths\":89,\"chemistry\":85}\n",
    "\n",
    "def task2(**kwargs):\n",
    "    print(kwargs,type(kwargs))\n",
    "    print(\"Hi my marks in physics are\",kwargs['physics'])\n",
    "    \n",
    "task2(physics=100,maths = 89,chemistry = 85)"
   ]
  },
  {
   "cell_type": "code",
   "execution_count": 11,
   "metadata": {},
   "outputs": [
    {
     "name": "stdout",
     "output_type": "stream",
     "text": [
      "12 24 45 56\n"
     ]
    }
   ],
   "source": [
    "## unpacking\n",
    "# :happens when we are calling this fun.\n",
    "\n",
    "def fun(a,b,c,d):\n",
    "    print(a,b,c,d)\n",
    "    \n",
    "task_list = [12,24,45,56]\n",
    "fun(*task_list)"
   ]
  },
  {
   "cell_type": "code",
   "execution_count": 15,
   "metadata": {},
   "outputs": [
    {
     "name": "stdout",
     "output_type": "stream",
     "text": [
      "100 200 400\n"
     ]
    }
   ],
   "source": [
    "marks_dict = {\"physics\":100,\"maths\":200,\"chem\":400}\n",
    "\n",
    "\n",
    "def fun_marks(physics,maths,chem):\n",
    "    print(physics,maths,chem)\n",
    "    \n",
    "fun_marks(**marks_dict)"
   ]
  },
  {
   "cell_type": "code",
   "execution_count": null,
   "metadata": {},
   "outputs": [],
   "source": [
    "## Question: Find out the Average marks by using variable number of arguments\n",
    "# feature\n",
    "\n",
    "=> use packing and **kwargs\n",
    "\n",
    "kwargs=>keyword arguments.\n",
    "\n",
    "# 20:06"
   ]
  },
  {
   "cell_type": "code",
   "execution_count": 21,
   "metadata": {},
   "outputs": [
    {
     "name": "stdout",
     "output_type": "stream",
     "text": [
      "91.33333333333333\n"
     ]
    }
   ],
   "source": [
    "def task2(**kwargs):\n",
    "    print(sum(kwargs.values())/len(kwargs.values()))\n",
    "    \n",
    "task2(physics=100,maths = 89,chemistry = 85)"
   ]
  },
  {
   "cell_type": "code",
   "execution_count": null,
   "metadata": {},
   "outputs": [],
   "source": [
    "dir() => names of the methods,variables in the module\n",
    "without any argument i get ans for the current module.\n",
    "\n",
    "help() => is to know about the function/class/module and it's methods,etc\n",
    "help provides us with the reutrn type, fun def and how to use that.\n",
    "basically a lot of info.\n",
    "\n",
    "locals() => to know the variables in the local namespace\n",
    "globals() => to know the variables in the global namespace\n",
    "\n",
    "sys.path => current dir + all the system path directory which python know about\n",
    "and can search there if we import a module."
   ]
  },
  {
   "cell_type": "code",
   "execution_count": null,
   "metadata": {},
   "outputs": [],
   "source": [
    "packages examples: sklearn,pandas,numpy,bs4"
   ]
  },
  {
   "cell_type": "code",
   "execution_count": null,
   "metadata": {},
   "outputs": [],
   "source": []
  }
 ],
 "metadata": {
  "kernelspec": {
   "display_name": "Python 3",
   "language": "python",
   "name": "python3"
  },
  "language_info": {
   "codemirror_mode": {
    "name": "ipython",
    "version": 3
   },
   "file_extension": ".py",
   "mimetype": "text/x-python",
   "name": "python",
   "nbconvert_exporter": "python",
   "pygments_lexer": "ipython3",
   "version": "3.8.3"
  }
 },
 "nbformat": 4,
 "nbformat_minor": 4
}
