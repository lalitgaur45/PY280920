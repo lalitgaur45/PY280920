{
 "cells": [
  {
   "cell_type": "code",
   "execution_count": null,
   "metadata": {},
   "outputs": [],
   "source": [
    "Q2.Create a Time class and initialize it with hours and minutes.\n",
    "1. Make a method addTime which should take two time object and add them.\n",
    "E.g.- (2 hour and 50 min)+(1 hr and 20 min) is (4 hr and 10 min)\n",
    "2. Make a method displayTime which should print the time.\n",
    "3. Make a method DisplayMinute which should display the total minutes in the Time.\n",
    "E.g.- (1 hr 2 min) should display 62 minute."
   ]
  },
  {
   "cell_type": "code",
   "execution_count": 33,
   "metadata": {},
   "outputs": [],
   "source": [
    "class Time:\n",
    "    def __init__(self,hours,minutes):\n",
    "        self.minutes = minutes\n",
    "        self.hours = hours\n",
    "        \n",
    "    def displayTime(self):\n",
    "        print(self.hours,\"hour and \",self.minutes,\"minutes\")\n",
    "        \n",
    "    def DisplayMinute(self):\n",
    "        total_minutes = self.minutes + self.hours*60\n",
    "        print(total_minutes)\n",
    "        \n",
    "    @staticmethod\n",
    "    def utility(minutes):\n",
    "        y = minutes//60\n",
    "        x = minutes%60\n",
    "        return (x,y)\n",
    "    \n",
    "    def addTime(self,obj2):\n",
    "        self.minutes = self.minutes + obj2.minutes\n",
    "        x,y = self.utility(self.minutes)\n",
    "        self.hours = self.hours + y + obj2.hours\n",
    "        self.minutes = x"
   ]
  },
  {
   "cell_type": "code",
   "execution_count": 34,
   "metadata": {},
   "outputs": [],
   "source": [
    "obj1_reference = Time(2,50)\n",
    "obj2_reference = Time(1,20)"
   ]
  },
  {
   "cell_type": "code",
   "execution_count": 35,
   "metadata": {},
   "outputs": [],
   "source": [
    "obj1_reference.addTime(obj2_reference)"
   ]
  },
  {
   "cell_type": "code",
   "execution_count": 36,
   "metadata": {},
   "outputs": [
    {
     "name": "stdout",
     "output_type": "stream",
     "text": [
      "4 hour and  10 minutes\n"
     ]
    }
   ],
   "source": [
    "obj1_reference.displayTime()"
   ]
  },
  {
   "cell_type": "code",
   "execution_count": null,
   "metadata": {},
   "outputs": [],
   "source": [
    "## staticmethods :\n",
    "does not take either cls or obj reference.\n",
    "-> it works for something which does need reference to the obj var or cls var.\n",
    "@staticmethod"
   ]
  },
  {
   "cell_type": "code",
   "execution_count": null,
   "metadata": {},
   "outputs": [],
   "source": [
    "class Time:\n",
    "    def __init__(self,hours,minutes):\n",
    "        self.minutes = minutes\n",
    "        self.hours = hours\n",
    "        \n",
    "    def displayTime(self):\n",
    "        print(self.hours,\"hour and \",self.minutes,\"minutes\")\n",
    "        \n",
    "    def DisplayMinute(self):\n",
    "        total_minutes = self.minutes + self.hours*60\n",
    "        print(total_minutes)\n",
    "        \n",
    "    @staticmethod\n",
    "    def utility(minutes):\n",
    "        y = minutes//60\n",
    "        x = minutes%60\n",
    "        return (x,y)\n",
    "    \n",
    "    def addTime(self,obj2):\n",
    "        self.minutes = self.minutes + obj2.minutes\n",
    "        x,y = self.utility(self.minutes)\n",
    "        self.hours = self.hours + y + obj2.hours\n",
    "        self.minutes = x"
   ]
  },
  {
   "cell_type": "code",
   "execution_count": null,
   "metadata": {},
   "outputs": [],
   "source": [
    "class Student:\n",
    "    student_list = []\n",
    "    max_marks = 300\n",
    "    passing_percentage = 33\n",
    "    def __init__(self,name,roll_no):\n",
    "        print(\"an object with name\",name,\"is getting created.\")\n",
    "        self.name = name\n",
    "        self.roll_no = roll_no\n",
    "        self.marks = {\"history\":0,\"mechanics\":0,\"chemistry\":0}\n",
    "        Student.student_list.append(self)\n",
    "    \n",
    "    def add_marks(self,sub_name,marks):\n",
    "        sub_name = sub_name.lower()\n",
    "        self.marks[sub_name] = marks\n",
    "        \n",
    "#         print(self.marks)\n",
    "    def find_total(self):\n",
    "        self.total_marks = sum(self.marks.values())\n",
    "    \n",
    "    @classmethod\n",
    "    def find_topper(cls):\n",
    "        current_topper = cls.student_list[0]\n",
    "        highest_marks = 0\n",
    "        for student in cls.student_list:\n",
    "            student.find_total()\n",
    "            if student.total_marks>highest_marks:\n",
    "                highest_marks = student.total_marks\n",
    "                current_topper = student\n",
    "        print(\"The topper is \",current_topper.name)\n",
    "            \n",
    "    @classmethod\n",
    "    def find_failed(cls):\n",
    "        for student in cls.student_list:\n",
    "            student.find_total()\n",
    "            cls.percentage_formula(student.marks)\n",
    "            if percentage<cls.passing_percentage:\n",
    "                print(student.name,\"got failed\")\n",
    "                \n",
    "    @staticmethod\n",
    "    def percentage_formula(obt_marks):\n",
    "        per = (obj_marks/Student.max_marks)*100\n",
    "        return per"
   ]
  },
  {
   "cell_type": "code",
   "execution_count": null,
   "metadata": {},
   "outputs": [],
   "source": [
    "# make a staticemthod which will tell how much fuel will be consumed: make a formula considering\n",
    "-> mileage of the vehicle\n",
    "-> if ac is switched on\n",
    "-> traffic\n",
    "-> vehicle model\n",
    "\n",
    "\n",
    "class Vehicle:\n",
    "    def __init__(self):\n",
    "        self.speed = 0\n",
    "        self.current_gear = 0\n",
    "        \n",
    "    def brake(self):\n",
    "        if self.speed == 0:\n",
    "            print(\"Please don't joke with me!!\")\n",
    "        else:\n",
    "            self.speed = 0\n",
    "            print(\"break applied, speed now is\",self.speed)\n",
    "        \n",
    "    def slow_down(self):\n",
    "        if self.speed >= 10:\n",
    "            self.speed = self.speed - 10\n",
    "            print(\"We decreased it to \",self.speed)\n",
    "        \n",
    "    def accelerate(self):\n",
    "        if self.speed <= 240:\n",
    "            self.speed = self.speed + 10\n",
    "            print(\"We increased it to \",self.speed)\n",
    "        else:\n",
    "            print(\"sorry there is no more speed , buy a ferrari\")\n",
    "            \n",
    "    def gear_down(self):\n",
    "        if self.current_gear<=0:\n",
    "            print(\"We can no decrease the gear further\")\n",
    "        else:\n",
    "            self.current_gear = self.current_gear - 1\n",
    "            print(\"the gear now is\",self.current_gear)\n",
    "            \n",
    "    def gear_up(self):\n",
    "        if self.current_gear<5:\n",
    "            self.current_gear = self.current_gear + 1\n",
    "            print(\"the gear now is\",self.current_gear)\n",
    "        else:\n",
    "            print(\"We can no increase the gear further\")"
   ]
  },
  {
   "cell_type": "code",
   "execution_count": 37,
   "metadata": {},
   "outputs": [],
   "source": [
    "class Animal:\n",
    "    animal = \"None\"\n",
    "    def __init__(self,name):\n",
    "        self.name = name\n",
    "    def eat(self):\n",
    "        print(self.name,\" is eating\")\n",
    "        \n",
    "class Dog(Animal):\n",
    "    Animal.animal = \"Dog\"\n",
    "    breed = \"None\"\n",
    "    def bark(self):\n",
    "        print(self.name,\" is barking\")\n",
    "        \n",
    "yuki = Dog(\"YUKI SINGH\")"
   ]
  },
  {
   "cell_type": "code",
   "execution_count": 38,
   "metadata": {},
   "outputs": [
    {
     "name": "stdout",
     "output_type": "stream",
     "text": [
      "YUKI SINGH  is eating\n"
     ]
    }
   ],
   "source": [
    "yuki.eat()"
   ]
  },
  {
   "cell_type": "code",
   "execution_count": 39,
   "metadata": {},
   "outputs": [
    {
     "name": "stdout",
     "output_type": "stream",
     "text": [
      "YUKI SINGH  is barking\n"
     ]
    }
   ],
   "source": [
    "yuki.bark()"
   ]
  },
  {
   "cell_type": "code",
   "execution_count": null,
   "metadata": {},
   "outputs": [],
   "source": [
    "What is yuki here:\n",
    "    a) object\n",
    "    b) reference to the object.\n",
    "    \n",
    "correct=>b)"
   ]
  },
  {
   "cell_type": "code",
   "execution_count": null,
   "metadata": {},
   "outputs": [],
   "source": [
    "## METHOD OVERRIDING"
   ]
  },
  {
   "cell_type": "code",
   "execution_count": 40,
   "metadata": {},
   "outputs": [],
   "source": [
    "class Animal:\n",
    "    animal = \"None\"\n",
    "    def __init__(self,name):\n",
    "        self.name = name\n",
    "    def eat(self):\n",
    "        print(self.name,\" is eating\")\n",
    "        \n",
    "class Dog(Animal):\n",
    "    Animal.animal = \"Dog\"\n",
    "    breed = \"None\"\n",
    "    def bark(self):\n",
    "        print(self.name,\" is barking\")\n",
    "        \n",
    "    def eat(self):\n",
    "        print(\"the dog\",self.name,\" is eating like a pro!!\")\n",
    "        \n",
    "yuki = Dog(\"YUKI SINGH\")"
   ]
  },
  {
   "cell_type": "code",
   "execution_count": 41,
   "metadata": {},
   "outputs": [
    {
     "name": "stdout",
     "output_type": "stream",
     "text": [
      "the dog YUKI SINGH  is eating like a pro!!\n"
     ]
    }
   ],
   "source": [
    "yuki.eat()"
   ]
  },
  {
   "cell_type": "code",
   "execution_count": 43,
   "metadata": {},
   "outputs": [],
   "source": [
    "animal_ref = Animal(\"YUKI YUKI\")"
   ]
  },
  {
   "cell_type": "code",
   "execution_count": 44,
   "metadata": {},
   "outputs": [
    {
     "name": "stdout",
     "output_type": "stream",
     "text": [
      "YUKI YUKI  is eating\n"
     ]
    }
   ],
   "source": [
    "animal_ref.eat()"
   ]
  },
  {
   "cell_type": "code",
   "execution_count": 46,
   "metadata": {},
   "outputs": [],
   "source": [
    "class Animal:\n",
    "    animal = \"None\"\n",
    "    def __init__(self,name):\n",
    "        self.name = name\n",
    "        print(\"animal init is called\")\n",
    "    def eat(self):\n",
    "        print(self.name,\" is eating\")\n",
    "        \n",
    "class Dog(Animal):\n",
    "    Animal.animal = \"Dog\"\n",
    "    breed = \"None\"\n",
    "    def __init__(self,name):\n",
    "        self.name = name\n",
    "        print(\"dog init is called\")\n",
    "        \n",
    "    def bark(self):\n",
    "        print(self.name,\" is barking\")\n",
    "        \n",
    "    def eat(self):\n",
    "        print(\"the dog\",self.name,\" is eating like a pro!!\")"
   ]
  },
  {
   "cell_type": "code",
   "execution_count": 47,
   "metadata": {},
   "outputs": [
    {
     "name": "stdout",
     "output_type": "stream",
     "text": [
      "dog init is called\n"
     ]
    }
   ],
   "source": [
    "yuki = Dog(\"YUKI SINGH\")"
   ]
  },
  {
   "cell_type": "code",
   "execution_count": 48,
   "metadata": {},
   "outputs": [
    {
     "name": "stdout",
     "output_type": "stream",
     "text": [
      "animal init is called\n"
     ]
    }
   ],
   "source": [
    "animal_ref = Animal(\"YUKI YUKI\")"
   ]
  },
  {
   "cell_type": "code",
   "execution_count": 49,
   "metadata": {},
   "outputs": [
    {
     "data": {
      "text/plain": [
       "{'name': 'YUKI SINGH'}"
      ]
     },
     "execution_count": 49,
     "metadata": {},
     "output_type": "execute_result"
    }
   ],
   "source": [
    "yuki.__dict__"
   ]
  },
  {
   "cell_type": "code",
   "execution_count": 50,
   "metadata": {},
   "outputs": [
    {
     "name": "stdout",
     "output_type": "stream",
     "text": [
      "Help on Dog in module __main__ object:\n",
      "\n",
      "class Dog(Animal)\n",
      " |  Dog(name)\n",
      " |  \n",
      " |  Method resolution order:\n",
      " |      Dog\n",
      " |      Animal\n",
      " |      builtins.object\n",
      " |  \n",
      " |  Methods defined here:\n",
      " |  \n",
      " |  __init__(self, name)\n",
      " |      Initialize self.  See help(type(self)) for accurate signature.\n",
      " |  \n",
      " |  bark(self)\n",
      " |  \n",
      " |  eat(self)\n",
      " |  \n",
      " |  ----------------------------------------------------------------------\n",
      " |  Data and other attributes defined here:\n",
      " |  \n",
      " |  breed = 'None'\n",
      " |  \n",
      " |  ----------------------------------------------------------------------\n",
      " |  Data descriptors inherited from Animal:\n",
      " |  \n",
      " |  __dict__\n",
      " |      dictionary for instance variables (if defined)\n",
      " |  \n",
      " |  __weakref__\n",
      " |      list of weak references to the object (if defined)\n",
      " |  \n",
      " |  ----------------------------------------------------------------------\n",
      " |  Data and other attributes inherited from Animal:\n",
      " |  \n",
      " |  animal = 'Dog'\n",
      "\n"
     ]
    }
   ],
   "source": [
    "help(yuki)"
   ]
  },
  {
   "cell_type": "code",
   "execution_count": null,
   "metadata": {},
   "outputs": [],
   "source": [
    "## super keyword : access the parent."
   ]
  },
  {
   "cell_type": "code",
   "execution_count": 58,
   "metadata": {},
   "outputs": [],
   "source": [
    "class Animal:\n",
    "    animal = \"None\"\n",
    "    def __init__(self,name):\n",
    "        self.name = name\n",
    "        print(\"animal init is called\")\n",
    "    def eat(self):\n",
    "        print(self.name,\" is eating\")\n",
    "        \n",
    "    def makeAnimal(self,animal_name):\n",
    "        Animal.animal = animal_name\n",
    "        \n",
    "class Dog(Animal):\n",
    "    breed = \"None\"\n",
    "    def __init__(self,name,number_of_teeths):\n",
    "        super().makeAnimal(\"DOG\")\n",
    "        self.name = name\n",
    "        self.teeths = number_of_teeths\n",
    "        print(\"dog init is called\")\n",
    "        super().__init__(name)\n",
    "        \n",
    "    def bark(self):\n",
    "        super().eat()\n",
    "        print(self.name,\" is barking\")\n",
    "        \n",
    "    def eat(self):\n",
    "        print(\"the dog\",self.name,\" is eating like a pro!!\")"
   ]
  },
  {
   "cell_type": "code",
   "execution_count": 59,
   "metadata": {},
   "outputs": [
    {
     "name": "stdout",
     "output_type": "stream",
     "text": [
      "dog init is called\n",
      "animal init is called\n"
     ]
    }
   ],
   "source": [
    "yuki = Dog(\"YUKI SINGH\",40)"
   ]
  },
  {
   "cell_type": "code",
   "execution_count": 60,
   "metadata": {},
   "outputs": [
    {
     "name": "stdout",
     "output_type": "stream",
     "text": [
      "YUKI SINGH  is eating\n",
      "YUKI SINGH  is barking\n"
     ]
    }
   ],
   "source": [
    "yuki.bark()"
   ]
  },
  {
   "cell_type": "code",
   "execution_count": 61,
   "metadata": {},
   "outputs": [
    {
     "data": {
      "text/plain": [
       "'DOG'"
      ]
     },
     "execution_count": 61,
     "metadata": {},
     "output_type": "execute_result"
    }
   ],
   "source": [
    "yuki.animal"
   ]
  },
  {
   "cell_type": "code",
   "execution_count": 66,
   "metadata": {},
   "outputs": [],
   "source": [
    "class Animal:\n",
    "    animal = \"None\"\n",
    "    def __init__(self,name):\n",
    "        self.name = name\n",
    "        print(\"animal init is called\")\n",
    "    def eat(self):\n",
    "        print(self.name,\" is eating\")\n",
    "        \n",
    "    def makeAnimal(self,animal_name):\n",
    "        Animal.animal = animal_name\n",
    "        \n",
    "class Dog(Animal):\n",
    "    breed = \"None\"\n",
    "    def __init__(self,name,number_of_teeths):\n",
    "        super().makeAnimal(\"DOG\")\n",
    "        self.name = name\n",
    "        self.teeths = number_of_teeths\n",
    "        print(\"dog init is called\")\n",
    "        super().__init__(name)\n",
    "        \n",
    "    def bark(self):\n",
    "        super().eat()\n",
    "        print(self.name,\" is barking\")\n",
    "        \n",
    "    def eat(self):\n",
    "        print(\"the dog\",self.name,\" is eating like a pro!!\")\n",
    "        \n",
    "class Labrador(Dog):\n",
    "    Dog.breed = \"labra\"\n",
    "    def bark(self):\n",
    "        super().bark()\n",
    "        print(self.name,\" barks out loud!!\")"
   ]
  },
  {
   "cell_type": "code",
   "execution_count": 67,
   "metadata": {},
   "outputs": [
    {
     "name": "stdout",
     "output_type": "stream",
     "text": [
      "dog init is called\n",
      "animal init is called\n"
     ]
    }
   ],
   "source": [
    "yuki = Labrador(\"YUKI SINGH\",50)"
   ]
  },
  {
   "cell_type": "code",
   "execution_count": 68,
   "metadata": {},
   "outputs": [
    {
     "name": "stdout",
     "output_type": "stream",
     "text": [
      "YUKI SINGH  is eating\n",
      "YUKI SINGH  is barking\n",
      "YUKI SINGH  barks out loud!!\n"
     ]
    }
   ],
   "source": [
    "yuki.bark()"
   ]
  },
  {
   "cell_type": "code",
   "execution_count": 69,
   "metadata": {},
   "outputs": [
    {
     "name": "stdout",
     "output_type": "stream",
     "text": [
      "Help on Labrador in module __main__ object:\n",
      "\n",
      "class Labrador(Dog)\n",
      " |  Labrador(name, number_of_teeths)\n",
      " |  \n",
      " |  Method resolution order:\n",
      " |      Labrador\n",
      " |      Dog\n",
      " |      Animal\n",
      " |      builtins.object\n",
      " |  \n",
      " |  Methods defined here:\n",
      " |  \n",
      " |  bark(self)\n",
      " |  \n",
      " |  ----------------------------------------------------------------------\n",
      " |  Methods inherited from Dog:\n",
      " |  \n",
      " |  __init__(self, name, number_of_teeths)\n",
      " |      Initialize self.  See help(type(self)) for accurate signature.\n",
      " |  \n",
      " |  eat(self)\n",
      " |  \n",
      " |  ----------------------------------------------------------------------\n",
      " |  Data and other attributes inherited from Dog:\n",
      " |  \n",
      " |  breed = 'labra'\n",
      " |  \n",
      " |  ----------------------------------------------------------------------\n",
      " |  Methods inherited from Animal:\n",
      " |  \n",
      " |  makeAnimal(self, animal_name)\n",
      " |  \n",
      " |  ----------------------------------------------------------------------\n",
      " |  Data descriptors inherited from Animal:\n",
      " |  \n",
      " |  __dict__\n",
      " |      dictionary for instance variables (if defined)\n",
      " |  \n",
      " |  __weakref__\n",
      " |      list of weak references to the object (if defined)\n",
      " |  \n",
      " |  ----------------------------------------------------------------------\n",
      " |  Data and other attributes inherited from Animal:\n",
      " |  \n",
      " |  animal = 'DOG'\n",
      "\n"
     ]
    }
   ],
   "source": [
    "help(yuki)"
   ]
  },
  {
   "cell_type": "code",
   "execution_count": null,
   "metadata": {},
   "outputs": [],
   "source": [
    "## Questions:\n",
    "Create a Car class inherited from vehicle.\n",
    "Create a cow class inherited from animal."
   ]
  }
 ],
 "metadata": {
  "kernelspec": {
   "display_name": "Python 3",
   "language": "python",
   "name": "python3"
  },
  "language_info": {
   "codemirror_mode": {
    "name": "ipython",
    "version": 3
   },
   "file_extension": ".py",
   "mimetype": "text/x-python",
   "name": "python",
   "nbconvert_exporter": "python",
   "pygments_lexer": "ipython3",
   "version": "3.8.3"
  }
 },
 "nbformat": 4,
 "nbformat_minor": 4
}
