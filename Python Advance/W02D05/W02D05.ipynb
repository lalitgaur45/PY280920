{
 "cells": [
  {
   "cell_type": "code",
   "execution_count": 1,
   "metadata": {},
   "outputs": [],
   "source": [
    "# reGX??\n",
    "\n",
    "# APPLICATIONS?\n",
    "\n",
    "# **KWARGS?\n",
    "\n",
    "2 THINGS ABOUT DICT AND SET?\n",
    "1) keys are unique\n",
    "2) immuatable\n",
    "\n",
    "immutable?\n",
    "edit/changing/update"
   ]
  },
  {
   "cell_type": "code",
   "execution_count": null,
   "metadata": {},
   "outputs": [],
   "source": [
    "examples?\n",
    "int,float,str,tuple"
   ]
  },
  {
   "cell_type": "code",
   "execution_count": null,
   "metadata": {},
   "outputs": [],
   "source": [
    "iterables?\n",
    "which we can loop over\n",
    "\n",
    "examples?\n",
    "dict,set,list\n",
    "\n",
    "any fun? range"
   ]
  },
  {
   "cell_type": "code",
   "execution_count": null,
   "metadata": {},
   "outputs": [],
   "source": [
    "how many arg does range accepts?"
   ]
  },
  {
   "cell_type": "code",
   "execution_count": 2,
   "metadata": {},
   "outputs": [
    {
     "name": "stdout",
     "output_type": "stream",
     "text": [
      "1\n",
      "3\n",
      "5\n",
      "7\n",
      "9\n"
     ]
    }
   ],
   "source": [
    "for i in range(1,10,2):\n",
    "    print(i)"
   ]
  },
  {
   "cell_type": "code",
   "execution_count": null,
   "metadata": {},
   "outputs": [],
   "source": [
    "continue?\n",
    "\n",
    "skip that iteration"
   ]
  },
  {
   "cell_type": "code",
   "execution_count": 3,
   "metadata": {},
   "outputs": [
    {
     "name": "stdout",
     "output_type": "stream",
     "text": [
      "1\n",
      "2\n",
      "4\n",
      "5\n",
      "6\n",
      "7\n",
      "8\n",
      "9\n"
     ]
    }
   ],
   "source": [
    "for i in range(1,10):\n",
    "    if i==3:\n",
    "        continue\n",
    "    print(i)"
   ]
  },
  {
   "cell_type": "code",
   "execution_count": 4,
   "metadata": {},
   "outputs": [
    {
     "name": "stdout",
     "output_type": "stream",
     "text": [
      "1\n",
      "2\n"
     ]
    }
   ],
   "source": [
    "for i in range(1,10):\n",
    "    if i==3:\n",
    "        break\n",
    "    print(i)"
   ]
  },
  {
   "cell_type": "code",
   "execution_count": null,
   "metadata": {},
   "outputs": [],
   "source": [
    "why is closing a file important?\n",
    "1) saving the changes\n",
    "2) saving some memory\n",
    "3) avoid updating the file content by mistake."
   ]
  },
  {
   "cell_type": "code",
   "execution_count": null,
   "metadata": {},
   "outputs": [],
   "source": [
    "pass?\n",
    "\n",
    "it does nothing.\n",
    "\n"
   ]
  },
  {
   "cell_type": "code",
   "execution_count": 8,
   "metadata": {},
   "outputs": [
    {
     "name": "stdout",
     "output_type": "stream",
     "text": [
      "1\n",
      "2\n",
      "3\n",
      "4\n",
      "5\n",
      "6\n",
      "7\n",
      "8\n",
      "9\n"
     ]
    }
   ],
   "source": [
    "for i in range(1,10):\n",
    "    if i==3:\n",
    "        pass\n",
    "    print(i)"
   ]
  },
  {
   "cell_type": "code",
   "execution_count": null,
   "metadata": {},
   "outputs": [],
   "source": [
    "module?\n",
    "python file contains python code => functions,and classes, variables\n",
    "\n",
    "package?\n",
    "collection of folders and subfolders containing .py files\n",
    "\n",
    "package\n",
    "-mod1.py\n",
    "    -spacex\n",
    "-mod2.py\n",
    "    -ibm\n",
    "    \n",
    "from package import *"
   ]
  },
  {
   "cell_type": "code",
   "execution_count": 10,
   "metadata": {},
   "outputs": [],
   "source": [
    "x = 50\n",
    "def happy():\n",
    "    print(\"sad\")"
   ]
  },
  {
   "cell_type": "code",
   "execution_count": 11,
   "metadata": {},
   "outputs": [
    {
     "name": "stdout",
     "output_type": "stream",
     "text": [
      "['In', 'Out', '_', '__', '___', '__builtin__', '__builtins__', '__doc__', '__loader__', '__name__', '__package__', '__spec__', '_dh', '_i', '_i1', '_i10', '_i11', '_i2', '_i3', '_i4', '_i5', '_i6', '_i7', '_i8', '_i9', '_ih', '_ii', '_iii', '_oh', 'exit', 'get_ipython', 'happy', 'i', 'quit', 'x']\n"
     ]
    }
   ],
   "source": [
    "print(dir())"
   ]
  },
  {
   "cell_type": "code",
   "execution_count": 12,
   "metadata": {},
   "outputs": [],
   "source": [
    "from package import *"
   ]
  },
  {
   "cell_type": "code",
   "execution_count": 13,
   "metadata": {},
   "outputs": [
    {
     "name": "stdout",
     "output_type": "stream",
     "text": [
      "['In', 'Out', '_', '__', '___', '__builtin__', '__builtins__', '__doc__', '__loader__', '__name__', '__package__', '__spec__', '_dh', '_i', '_i1', '_i10', '_i11', '_i12', '_i13', '_i2', '_i3', '_i4', '_i5', '_i6', '_i7', '_i8', '_i9', '_ih', '_ii', '_iii', '_oh', 'exit', 'get_ipython', 'happy', 'i', 'quit', 'x']\n"
     ]
    }
   ],
   "source": [
    "print(dir())"
   ]
  },
  {
   "cell_type": "code",
   "execution_count": 14,
   "metadata": {},
   "outputs": [
    {
     "ename": "NameError",
     "evalue": "name 'mod1' is not defined",
     "output_type": "error",
     "traceback": [
      "\u001b[1;31m---------------------------------------------------------------------------\u001b[0m",
      "\u001b[1;31mNameError\u001b[0m                                 Traceback (most recent call last)",
      "\u001b[1;32m<ipython-input-14-dee8ba9de115>\u001b[0m in \u001b[0;36m<module>\u001b[1;34m\u001b[0m\n\u001b[1;32m----> 1\u001b[1;33m \u001b[0mmod1\u001b[0m\u001b[1;33m.\u001b[0m\u001b[0mspacex\u001b[0m\u001b[1;33m(\u001b[0m\u001b[1;33m)\u001b[0m\u001b[1;33m\u001b[0m\u001b[1;33m\u001b[0m\u001b[0m\n\u001b[0m",
      "\u001b[1;31mNameError\u001b[0m: name 'mod1' is not defined"
     ]
    }
   ],
   "source": [
    "mod1.spacex()"
   ]
  },
  {
   "cell_type": "code",
   "execution_count": 15,
   "metadata": {},
   "outputs": [
    {
     "ename": "NameError",
     "evalue": "name 'mod2' is not defined",
     "output_type": "error",
     "traceback": [
      "\u001b[1;31m---------------------------------------------------------------------------\u001b[0m",
      "\u001b[1;31mNameError\u001b[0m                                 Traceback (most recent call last)",
      "\u001b[1;32m<ipython-input-15-cf6d07ad1bfb>\u001b[0m in \u001b[0;36m<module>\u001b[1;34m\u001b[0m\n\u001b[1;32m----> 1\u001b[1;33m \u001b[0mmod2\u001b[0m\u001b[1;33m.\u001b[0m\u001b[0mibm\u001b[0m\u001b[1;33m(\u001b[0m\u001b[1;33m)\u001b[0m\u001b[1;33m\u001b[0m\u001b[1;33m\u001b[0m\u001b[0m\n\u001b[0m",
      "\u001b[1;31mNameError\u001b[0m: name 'mod2' is not defined"
     ]
    }
   ],
   "source": [
    "mod2.ibm()"
   ]
  },
  {
   "cell_type": "code",
   "execution_count": 16,
   "metadata": {},
   "outputs": [],
   "source": [
    "from mod1 import *"
   ]
  },
  {
   "cell_type": "code",
   "execution_count": 17,
   "metadata": {},
   "outputs": [
    {
     "name": "stdout",
     "output_type": "stream",
     "text": [
      "['In', 'Out', '_', '__', '___', '__builtin__', '__builtins__', '__doc__', '__loader__', '__name__', '__package__', '__spec__', '_dh', '_i', '_i1', '_i10', '_i11', '_i12', '_i13', '_i14', '_i15', '_i16', '_i17', '_i2', '_i3', '_i4', '_i5', '_i6', '_i7', '_i8', '_i9', '_ih', '_ii', '_iii', '_oh', 'exit', 'get_ipython', 'happy', 'i', 'ibm', 'quit', 'spacex', 'x']\n"
     ]
    }
   ],
   "source": [
    "print(dir())"
   ]
  },
  {
   "cell_type": "code",
   "execution_count": 18,
   "metadata": {},
   "outputs": [
    {
     "name": "stdout",
     "output_type": "stream",
     "text": [
      "we are in space\n"
     ]
    }
   ],
   "source": [
    "spacex()"
   ]
  },
  {
   "cell_type": "code",
   "execution_count": 19,
   "metadata": {},
   "outputs": [
    {
     "name": "stdout",
     "output_type": "stream",
     "text": [
      "We are splitting ibm into sub companies\n"
     ]
    }
   ],
   "source": [
    "ibm()"
   ]
  },
  {
   "cell_type": "code",
   "execution_count": 20,
   "metadata": {},
   "outputs": [],
   "source": [
    "from package import mod2"
   ]
  },
  {
   "cell_type": "code",
   "execution_count": 21,
   "metadata": {},
   "outputs": [
    {
     "name": "stdout",
     "output_type": "stream",
     "text": [
      "We are splitting ibm into sub companies\n"
     ]
    }
   ],
   "source": [
    "mod2.ibm()"
   ]
  },
  {
   "cell_type": "code",
   "execution_count": 22,
   "metadata": {},
   "outputs": [],
   "source": [
    "from package import mod1"
   ]
  },
  {
   "cell_type": "code",
   "execution_count": 23,
   "metadata": {},
   "outputs": [
    {
     "name": "stdout",
     "output_type": "stream",
     "text": [
      "we are in space\n"
     ]
    }
   ],
   "source": [
    "mod1.spacex()"
   ]
  },
  {
   "cell_type": "code",
   "execution_count": null,
   "metadata": {},
   "outputs": [],
   "source": [
    "Homework: go through the modules and packages pdf, and jupyter notebook."
   ]
  },
  {
   "cell_type": "code",
   "execution_count": null,
   "metadata": {},
   "outputs": [],
   "source": [
    "## Regular Expressions"
   ]
  },
  {
   "cell_type": "code",
   "execution_count": null,
   "metadata": {},
   "outputs": [],
   "source": [
    "## REGULAR EXPRESSION\n",
    "\n",
    "## Metacharacters.\n",
    "\n",
    ".(dot) => match with all the chars(alphabets,digits,specialchars) except newline(\"\\n\") => . is for a single char.\n",
    "[]  => Character Class. a set of chars\n",
    "[A-Z] => all the capital aphabets (single occurence)\n",
    "[a-z] => all the small alphabets (single occurence)\n",
    "[A-Za-z] => all small+Capital (single occurence)\n",
    "[0-9] => digits (single occurence)\n",
    "\n",
    "Quantifiers:\n",
    "    + => atleast 1 or more occurence \n",
    "    * => 0 or more occurence\n",
    "    ? => Optional (like once, or not at all)\n",
    "    \n",
    "Anchors:    \n",
    "    ^ => start of the string\n",
    "    $ => end of the string\n",
    "    \n",
    "{} => counting stuff\n",
    "[a-z]{2} => should occur exactly 2 times.\n",
    "[0-9]{3} => should occur exactly 3 times\n",
    "[A-Z]{3,5} => should occur in the range 3,4,5 times.\n",
    "\n",
    "^ compliment(reversal)"
   ]
  },
  {
   "cell_type": "code",
   "execution_count": null,
   "metadata": {},
   "outputs": [],
   "source": [
    "Q2.) Write a regX to match a 3 digit number followed by 3 small alphabets.\n",
    "\n",
    "Q3.) Write a regx that start with a and end with z\n",
    "\n",
    "Q4.) Write a reqx that should match a pattern having atmost 3 occurences of small alphabets."
   ]
  },
  {
   "cell_type": "code",
   "execution_count": 25,
   "metadata": {},
   "outputs": [
    {
     "name": "stdout",
     "output_type": "stream",
     "text": [
      "<re.Match object; span=(0, 6), match='123abc'>\n",
      "<re.Match object; span=(0, 6), match='458tuy'>\n",
      "None\n",
      "None\n"
     ]
    }
   ],
   "source": [
    "# Q2\n",
    "# '[0-9]{3}[a-z]{3}'\n",
    "\n",
    "list_of_strings = ['123abc','458tuy','12aer','145we']\n",
    "\n",
    "import re\n",
    "\n",
    "for string in list_of_strings:\n",
    "    print(re.search('[0-9]{3}[a-z]{3}',string))"
   ]
  },
  {
   "cell_type": "code",
   "execution_count": 28,
   "metadata": {},
   "outputs": [
    {
     "name": "stdout",
     "output_type": "stream",
     "text": [
      "<re.Match object; span=(0, 8), match='a123abcz'>\n",
      "<re.Match object; span=(0, 8), match='a458tuyz'>\n",
      "<re.Match object; span=(0, 7), match='a12aerz'>\n",
      "<re.Match object; span=(0, 7), match='a145wez'>\n",
      "<re.Match object; span=(0, 2), match='az'>\n"
     ]
    }
   ],
   "source": [
    "# Q3\n",
    "\n",
    "# '^az$'\n",
    "\n",
    "list_of_strings = ['a123abcz','a458tuyz','a12aerz','a145wez','az']\n",
    "\n",
    "import re\n",
    "\n",
    "for string in list_of_strings:\n",
    "    print(re.search('^a.*z$',string))"
   ]
  },
  {
   "cell_type": "code",
   "execution_count": 34,
   "metadata": {},
   "outputs": [
    {
     "name": "stdout",
     "output_type": "stream",
     "text": [
      "<re.Match object; span=(0, 1), match='a'>\n",
      "<re.Match object; span=(0, 0), match=''>\n",
      "None\n",
      "<re.Match object; span=(0, 2), match='ab'>\n",
      "<re.Match object; span=(0, 3), match='abc'>\n",
      "None\n"
     ]
    }
   ],
   "source": [
    "# Q4\n",
    "# Q4.) Write a reqx that should match a pattern having atmost 3 occurences of small alphabets.\n",
    "\n",
    "\n",
    "# alphabet can appear max 3 times, or less than that. 0,1,2,3 (not be gretaerr than 3)\n",
    "\n",
    "# '[a-z]{0,3}' \n",
    "\n",
    "\n",
    "list_of_strings = ['a','','4','ab','abc','abcd']\n",
    "\n",
    "import re\n",
    "\n",
    "for string in list_of_strings:\n",
    "    print(re.search('^[a-z]{0,3}$',string))"
   ]
  },
  {
   "cell_type": "markdown",
   "metadata": {},
   "source": [
    "## we can use re.search in if condition also"
   ]
  },
  {
   "cell_type": "code",
   "execution_count": 36,
   "metadata": {},
   "outputs": [
    {
     "name": "stdout",
     "output_type": "stream",
     "text": [
      "a  is a match\n",
      "  is a match\n",
      "4  is not a match\n",
      "ab  is a match\n",
      "abc  is a match\n",
      "abcd  is not a match\n"
     ]
    }
   ],
   "source": [
    "list_of_strings = ['a','','4','ab','abc','abcd']\n",
    "\n",
    "import re\n",
    "\n",
    "for string in list_of_strings:\n",
    "    if re.search('^[a-z]{0,3}$',string):\n",
    "        print(string,\" is a match\")\n",
    "    else:\n",
    "        print(string,\" is not a match\")"
   ]
  },
  {
   "cell_type": "code",
   "execution_count": 37,
   "metadata": {},
   "outputs": [
    {
     "name": "stdout",
     "output_type": "stream",
     "text": [
      "sad\n"
     ]
    }
   ],
   "source": [
    "if []:\n",
    "    print(\"happy\")\n",
    "else:\n",
    "    print(\"sad\")"
   ]
  },
  {
   "cell_type": "code",
   "execution_count": null,
   "metadata": {},
   "outputs": [],
   "source": [
    "false: [],{},None,False,0,\"\", when no match in re.search"
   ]
  },
  {
   "cell_type": "markdown",
   "metadata": {},
   "source": [
    "## Grouping and backreferencing"
   ]
  },
  {
   "cell_type": "code",
   "execution_count": null,
   "metadata": {},
   "outputs": [],
   "source": [
    "# string1 = \"apple,apple,apple\" true\n",
    "\n",
    "# string2 = \"mango,apple\" false\n",
    "\n",
    "# string3 = \"mango,mango\" true\n",
    "\n",
    "# regx, which will match if a word repeats more than once comma separated."
   ]
  },
  {
   "cell_type": "code",
   "execution_count": null,
   "metadata": {},
   "outputs": [],
   "source": [
    "# you define groups by using parenthesis\n",
    "\n",
    "\n",
    "# ()()()()\\3\n",
    "\n",
    "# ((regx),(regxanother))\n",
    "\n",
    "# groups are 1-indexed"
   ]
  },
  {
   "cell_type": "code",
   "execution_count": null,
   "metadata": {},
   "outputs": [],
   "source": [
    "so you group a piece of regx, so that you can play with the group.\n",
    "\n",
    "([])"
   ]
  },
  {
   "cell_type": "code",
   "execution_count": 39,
   "metadata": {},
   "outputs": [
    {
     "name": "stdout",
     "output_type": "stream",
     "text": [
      "<re.Match object; span=(0, 11), match='apple,apple'>\n",
      "None\n",
      "<re.Match object; span=(0, 11), match='mango,mango'>\n"
     ]
    }
   ],
   "source": [
    "regx = r'([a-z]+),\\1'\n",
    "\n",
    "list_of_strings = [\"apple,apple,apple\",\"mango,apple\",\"mango,mango\"]\n",
    "\n",
    "for string in list_of_strings:\n",
    "    print(re.search(regx,string))"
   ]
  },
  {
   "cell_type": "code",
   "execution_count": 42,
   "metadata": {},
   "outputs": [
    {
     "name": "stdout",
     "output_type": "stream",
     "text": [
      "<re.Match object; span=(0, 13), match='apple,786,786'>\n",
      "None\n",
      "None\n"
     ]
    }
   ],
   "source": [
    "regx = r'([a-z]+),([0-9]+),\\2'\n",
    "\n",
    "list_of_strings = [\"apple,786,786\",\"mango,apple\",\"mango,mango,786\"]\n",
    "\n",
    "for string in list_of_strings:\n",
    "    print(re.search(regx,string))"
   ]
  },
  {
   "cell_type": "code",
   "execution_count": null,
   "metadata": {},
   "outputs": [],
   "source": [
    "r'' => defining the string as raw\n",
    "octa are ignored from the string."
   ]
  },
  {
   "cell_type": "code",
   "execution_count": null,
   "metadata": {},
   "outputs": [],
   "source": [
    "# [a-zA-Z]+ == \\w+"
   ]
  },
  {
   "cell_type": "code",
   "execution_count": null,
   "metadata": {},
   "outputs": [],
   "source": [
    "# [0-9]+ == \\d"
   ]
  },
  {
   "cell_type": "code",
   "execution_count": 57,
   "metadata": {},
   "outputs": [],
   "source": [
    "regx = '(\\w+)8(\\w+)9(\\w+)'\n",
    "\n",
    "m = re.search(regx,'apple8mango9kiwi')"
   ]
  },
  {
   "cell_type": "code",
   "execution_count": 58,
   "metadata": {},
   "outputs": [
    {
     "data": {
      "text/plain": [
       "('apple', 'mango', 'kiwi')"
      ]
     },
     "execution_count": 58,
     "metadata": {},
     "output_type": "execute_result"
    }
   ],
   "source": [
    "m.groups()"
   ]
  },
  {
   "cell_type": "code",
   "execution_count": 45,
   "metadata": {},
   "outputs": [],
   "source": [
    "tuple1 = (1,2,3)"
   ]
  },
  {
   "cell_type": "code",
   "execution_count": 46,
   "metadata": {},
   "outputs": [
    {
     "data": {
      "text/plain": [
       "'apple'"
      ]
     },
     "execution_count": 46,
     "metadata": {},
     "output_type": "execute_result"
    }
   ],
   "source": [
    "m.group(1)"
   ]
  },
  {
   "cell_type": "code",
   "execution_count": 47,
   "metadata": {},
   "outputs": [
    {
     "data": {
      "text/plain": [
       "'mango'"
      ]
     },
     "execution_count": 47,
     "metadata": {},
     "output_type": "execute_result"
    }
   ],
   "source": [
    "m.group(2)"
   ]
  },
  {
   "cell_type": "code",
   "execution_count": 48,
   "metadata": {},
   "outputs": [
    {
     "data": {
      "text/plain": [
       "'kiwi'"
      ]
     },
     "execution_count": 48,
     "metadata": {},
     "output_type": "execute_result"
    }
   ],
   "source": [
    "m.group(3)"
   ]
  },
  {
   "cell_type": "code",
   "execution_count": null,
   "metadata": {},
   "outputs": [],
   "source": [
    "a is a word.\n",
    "\n",
    "()\n",
    "\n",
    "\\1\n",
    "\n",
    "\\2"
   ]
  },
  {
   "cell_type": "code",
   "execution_count": null,
   "metadata": {},
   "outputs": [],
   "source": [
    "Question: Write a regx which matches anything which starts and ends with the same word.\n",
    "    -use groups\n",
    "    \n",
    "'apple,honeybunny,apple'\n",
    "'computer,gully,computer'\n",
    "'mango,3wrd9skdlfjskdn3894ru,mango'"
   ]
  },
  {
   "cell_type": "code",
   "execution_count": 86,
   "metadata": {},
   "outputs": [
    {
     "name": "stdout",
     "output_type": "stream",
     "text": [
      "<re.Match object; span=(0, 12), match='123abc,mn,mn'>\n"
     ]
    }
   ],
   "source": [
    "regx = r'([0-9]{3}[a-z]{3}),([a-z]{2}),\\2'\n",
    "\n",
    "m = re.search(regx,'123abc,mn,mnop')\n",
    "\n",
    "print(m)"
   ]
  },
  {
   "cell_type": "code",
   "execution_count": 80,
   "metadata": {},
   "outputs": [
    {
     "data": {
      "text/plain": [
       "('123abc', 'mn')"
      ]
     },
     "execution_count": 80,
     "metadata": {},
     "output_type": "execute_result"
    }
   ],
   "source": [
    "m.groups()"
   ]
  },
  {
   "cell_type": "code",
   "execution_count": 99,
   "metadata": {},
   "outputs": [
    {
     "name": "stdout",
     "output_type": "stream",
     "text": [
      "<re.Match object; span=(0, 22), match='apple,honeybunny,apple'>\n",
      "<re.Match object; span=(0, 23), match='computer,gully,computer'>\n",
      "<re.Match object; span=(0, 23), match='mango,asdes123ffd,mango'>\n",
      "<re.Match object; span=(0, 14), match='boy,#$%#$%,boy'>\n",
      "<re.Match object; span=(0, 16), match='guy,dddd&66@,guy'>\n",
      "None\n",
      "None\n"
     ]
    }
   ],
   "source": [
    "s=r'^([a-z]+),(.+),\\1$'\n",
    "list_of_string=['apple,honeybunny,apple','computer,gully,computer','mango,asdes123ffd,mango','boy,#$%#$%,boy','guy,dddd&66@,guy'\n",
    "               ,'apple,honeybunny,apple,mango','mango,apple,honey,apple']\n",
    "for string in list_of_string:\n",
    "    print(re.search(s,string))"
   ]
  },
  {
   "cell_type": "code",
   "execution_count": null,
   "metadata": {},
   "outputs": [],
   "source": [
    "'mango,apple,honey,apple'\n",
    "\n",
    "s=r'([a-z]+),(.+),\\1$'\n",
    "\n",
    "group1 ? => mango\n",
    "group2 ? => apple\n",
    "group3 ? => \n",
    "\n",
    "how many () for 3 group to exist? 3"
   ]
  },
  {
   "cell_type": "code",
   "execution_count": null,
   "metadata": {},
   "outputs": [],
   "source": [
    "Next lecture => List Comprehension"
   ]
  },
  {
   "cell_type": "code",
   "execution_count": null,
   "metadata": {},
   "outputs": [],
   "source": [
    "-> ui\n",
    "-> inline matplotlib\n",
    "-> healines and other markup stuff."
   ]
  },
  {
   "cell_type": "markdown",
   "metadata": {},
   "source": [
    "# Happy faces of people to know how to write markdown in pynb\n",
    "\n",
    "### subheadline\n",
    "\n",
    "___________\n",
    "___________"
   ]
  },
  {
   "cell_type": "markdown",
   "metadata": {},
   "source": [
    "### subheadline"
   ]
  },
  {
   "cell_type": "code",
   "execution_count": null,
   "metadata": {},
   "outputs": [],
   "source": []
  }
 ],
 "metadata": {
  "kernelspec": {
   "display_name": "Python 3",
   "language": "python",
   "name": "python3"
  },
  "language_info": {
   "codemirror_mode": {
    "name": "ipython",
    "version": 3
   },
   "file_extension": ".py",
   "mimetype": "text/x-python",
   "name": "python",
   "nbconvert_exporter": "python",
   "pygments_lexer": "ipython3",
   "version": "3.8.3"
  }
 },
 "nbformat": 4,
 "nbformat_minor": 4
}
