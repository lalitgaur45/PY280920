{
 "cells": [
  {
   "cell_type": "code",
   "execution_count": null,
   "metadata": {},
   "outputs": [],
   "source": [
    "Input: String\n",
    "Output: yes/no\n",
    "\n",
    "\"sdhfsnefjhwaeihrw23423462$%^@^%$#\"\n",
    "\n",
    "CHECK IF THE STRING CONTAINS ALL THE 26 ALPHABETS(small alphabets)\n",
    "1) USING SET\n",
    "A) MAKING A SET OF THE STRING\n",
    "B) CHECKING IF A CHAR BELONGS FROM ASCI VALUES OF 97 TO 122 (a-z)\n",
    "C) Counted them."
   ]
  },
  {
   "cell_type": "code",
   "execution_count": null,
   "metadata": {},
   "outputs": [],
   "source": [
    "2) USING LIST\n",
    "\n",
    "A)MAKE A BLANK LIST OF ALPHABETS(JUST MAKE A LIST OF SIZE 26)\n",
    "B)loop over each element in the given_string:\n",
    "    find the index of that char in the list by subtracting 97 from it.(Remember that list out of index error does not occur)\n",
    "    just replace the value at that index with 1\n",
    "C)find the sum of the list, if it is 26, we got it!!\n",
    "\n",
    "## the method of using list of flags."
   ]
  },
  {
   "cell_type": "code",
   "execution_count": 6,
   "metadata": {},
   "outputs": [
    {
     "name": "stdout",
     "output_type": "stream",
     "text": [
      "[0, 0, 0, 0, 0, 0, 0, 0, 0, 0, 0, 0, 0, 0, 0, 0, 0, 0, 0, 0, 0, 0, 0, 0, 0, 0]\n"
     ]
    }
   ],
   "source": [
    "\"sdhfsnefjhwaeihrw23423462$%^@^%$#\"\n",
    "attendance_register = [0]*26\n",
    "print(attendance_register)"
   ]
  },
  {
   "cell_type": "code",
   "execution_count": null,
   "metadata": {},
   "outputs": [],
   "source": [
    "\"the quick brown fox jumps over a lazy #og\""
   ]
  },
  {
   "cell_type": "code",
   "execution_count": 2,
   "metadata": {},
   "outputs": [
    {
     "data": {
      "text/plain": [
       "35"
      ]
     },
     "execution_count": 2,
     "metadata": {},
     "output_type": "execute_result"
    }
   ],
   "source": [
    "ord('#')"
   ]
  },
  {
   "cell_type": "code",
   "execution_count": 3,
   "metadata": {},
   "outputs": [
    {
     "data": {
      "text/plain": [
       "-62"
      ]
     },
     "execution_count": 3,
     "metadata": {},
     "output_type": "execute_result"
    }
   ],
   "source": [
    "35-97"
   ]
  },
  {
   "cell_type": "code",
   "execution_count": 4,
   "metadata": {},
   "outputs": [
    {
     "ename": "IndexError",
     "evalue": "list index out of range",
     "output_type": "error",
     "traceback": [
      "\u001b[1;31m---------------------------------------------------------------------------\u001b[0m",
      "\u001b[1;31mIndexError\u001b[0m                                Traceback (most recent call last)",
      "\u001b[1;32m<ipython-input-4-085d7299091d>\u001b[0m in \u001b[0;36m<module>\u001b[1;34m\u001b[0m\n\u001b[1;32m----> 1\u001b[1;33m \u001b[0mZ\u001b[0m\u001b[1;33m[\u001b[0m\u001b[1;33m-\u001b[0m\u001b[1;36m62\u001b[0m\u001b[1;33m]\u001b[0m\u001b[1;33m\u001b[0m\u001b[1;33m\u001b[0m\u001b[0m\n\u001b[0m",
      "\u001b[1;31mIndexError\u001b[0m: list index out of range"
     ]
    }
   ],
   "source": [
    "Z[-62]"
   ]
  },
  {
   "cell_type": "code",
   "execution_count": 7,
   "metadata": {},
   "outputs": [
    {
     "name": "stdout",
     "output_type": "stream",
     "text": [
      "97 is ascii value of  a\n",
      "0 ascii-97 value of  a\n",
      "98 is ascii value of  b\n",
      "1 ascii-97 value of  b\n",
      "99 is ascii value of  c\n",
      "2 ascii-97 value of  c\n",
      "100 is ascii value of  d\n",
      "3 ascii-97 value of  d\n",
      "101 is ascii value of  e\n",
      "4 ascii-97 value of  e\n",
      "102 is ascii value of  f\n",
      "5 ascii-97 value of  f\n",
      "103 is ascii value of  g\n",
      "6 ascii-97 value of  g\n",
      "104 is ascii value of  h\n",
      "7 ascii-97 value of  h\n",
      "105 is ascii value of  i\n",
      "8 ascii-97 value of  i\n",
      "106 is ascii value of  j\n",
      "9 ascii-97 value of  j\n",
      "107 is ascii value of  k\n",
      "10 ascii-97 value of  k\n",
      "108 is ascii value of  l\n",
      "11 ascii-97 value of  l\n",
      "109 is ascii value of  m\n",
      "12 ascii-97 value of  m\n",
      "110 is ascii value of  n\n",
      "13 ascii-97 value of  n\n",
      "111 is ascii value of  o\n",
      "14 ascii-97 value of  o\n",
      "112 is ascii value of  p\n",
      "15 ascii-97 value of  p\n",
      "113 is ascii value of  q\n",
      "16 ascii-97 value of  q\n",
      "114 is ascii value of  r\n",
      "17 ascii-97 value of  r\n",
      "115 is ascii value of  s\n",
      "18 ascii-97 value of  s\n",
      "116 is ascii value of  t\n",
      "19 ascii-97 value of  t\n",
      "117 is ascii value of  u\n",
      "20 ascii-97 value of  u\n",
      "118 is ascii value of  v\n",
      "21 ascii-97 value of  v\n",
      "119 is ascii value of  w\n",
      "22 ascii-97 value of  w\n",
      "120 is ascii value of  x\n",
      "23 ascii-97 value of  x\n",
      "121 is ascii value of  y\n",
      "24 ascii-97 value of  y\n",
      "122 is ascii value of  z\n",
      "25 ascii-97 value of  z\n"
     ]
    }
   ],
   "source": [
    "for i in range(97,123):\n",
    "    print(i,\"is ascii value of \",chr(i))\n",
    "    print(i-97,\"ascii-97 value of \",chr(i))"
   ]
  },
  {
   "cell_type": "code",
   "execution_count": null,
   "metadata": {},
   "outputs": [],
   "source": [
    "0-25 => total 26\n",
    "\n",
    "list is indexed from 0"
   ]
  },
  {
   "cell_type": "code",
   "execution_count": null,
   "metadata": {},
   "outputs": [],
   "source": [
    "attendance_register = [0,0,0,0]\n",
    "\n",
    "classroom_contents = 'abc56'\n",
    "\n",
    "for content in classroom_contents:\n",
    "    \n",
    "        \n",
    "print(attendance_register)"
   ]
  },
  {
   "cell_type": "code",
   "execution_count": 8,
   "metadata": {},
   "outputs": [
    {
     "name": "stdout",
     "output_type": "stream",
     "text": [
      "[1, 1, 1, 0]\n"
     ]
    }
   ],
   "source": [
    "# 'abcd' are present or not.\n",
    "# very very basic method\n",
    "\n",
    "attendance_register = [0,0,0,0]\n",
    "\n",
    "classroom_contents = 'abc56'\n",
    "\n",
    "for content in classroom_contents:\n",
    "    if content == 'a':\n",
    "        attendance_register[0] = 1\n",
    "    if content == 'b':\n",
    "        attendance_register[1] = 1 \n",
    "    if content == 'c':\n",
    "        attendance_register[2] = 1\n",
    "    if content == 'd':\n",
    "        attendance_register[3] = 1\n",
    "        \n",
    "print(attendance_register)"
   ]
  },
  {
   "cell_type": "code",
   "execution_count": 14,
   "metadata": {},
   "outputs": [
    {
     "data": {
      "text/plain": [
       "3"
      ]
     },
     "execution_count": 14,
     "metadata": {},
     "output_type": "execute_result"
    }
   ],
   "source": [
    "ord('d')-97"
   ]
  },
  {
   "cell_type": "code",
   "execution_count": 25,
   "metadata": {},
   "outputs": [
    {
     "name": "stdout",
     "output_type": "stream",
     "text": [
      "[1, 1, 1, 1, 1, 1, 1, 1, 1, 1, 1, 1, 1, 1, 1, 1, 1, 1, 1, 1, 1, 1, 1, 1, 1, 1]\n",
      "26\n"
     ]
    }
   ],
   "source": [
    "attendance_register = [0]*26\n",
    "\n",
    "classroom_contents = 'the quick brown fox jumps over a lazy dog dog'\n",
    "\n",
    "classroom_contents = set(classroom_contents)\n",
    "\n",
    "for content in classroom_contents:\n",
    "    val = ord(content)-97\n",
    "    if val>=0 and val<=25:\n",
    "        attendance_register[val] = 1\n",
    "        \n",
    "print(attendance_register)\n",
    "\n",
    "print(sum(attendance_register))"
   ]
  },
  {
   "cell_type": "code",
   "execution_count": 20,
   "metadata": {},
   "outputs": [
    {
     "name": "stdout",
     "output_type": "stream",
     "text": [
      "700\n"
     ]
    }
   ],
   "source": [
    "# what is list index out of range error?\n",
    "\n",
    "list_x = [700]\n",
    "\n",
    "# if you try to acess a position which is not present.\n",
    "\n",
    "print(list_x[0])"
   ]
  },
  {
   "cell_type": "code",
   "execution_count": null,
   "metadata": {},
   "outputs": [],
   "source": [
    "## REGULAR EXPRESSION\n",
    "\n",
    "## Metacharacters.\n",
    "\n",
    ".(dot) => match with all the chars(alphabets,digits,specialchars) except newline(\"\\n\") => . is for a single char.\n",
    "[]  => Character Class. a set of chars\n",
    "[A-Z] => all the capital aphabets (single occurence)\n",
    "[a-z] => all the small alphabets (single occurence)\n",
    "[A-Za-z] => all small+Capital (single occurence)\n",
    "[0-9] => digits (single occurence)\n",
    "\n",
    "Quantifiers:\n",
    "    + => atleast 1 or more occurence \n",
    "    * => 0 or more occurence\n",
    "    ? => Optional (like once, or not at all)\n",
    "    \n",
    "Anchors:    \n",
    "    ^ => start of the string\n",
    "    $ => end of the string\n",
    "    \n",
    "{} => counting stuff\n",
    "[a-z]{2} => should occur exactly 2 times.\n",
    "[0-9]{3} => should occur exactly 3 times\n",
    "[A-Z]{3,5} => should occur in the range 3,4,5 times.\n",
    "\n",
    "^ compliment(reversal)"
   ]
  },
  {
   "cell_type": "code",
   "execution_count": null,
   "metadata": {},
   "outputs": [],
   "source": [
    "1) PATTERN VALIDATION\n",
    "2) PATTERN EXTRACTION\n"
   ]
  },
  {
   "cell_type": "code",
   "execution_count": 26,
   "metadata": {},
   "outputs": [],
   "source": [
    "import re"
   ]
  },
  {
   "cell_type": "code",
   "execution_count": 28,
   "metadata": {},
   "outputs": [
    {
     "name": "stdout",
     "output_type": "stream",
     "text": [
      "<re.Match object; span=(0, 1), match='t'>\n",
      "<re.Match object; span=(0, 1), match='A'>\n",
      "<re.Match object; span=(0, 1), match='3'>\n",
      "<re.Match object; span=(0, 1), match='$'>\n"
     ]
    }
   ],
   "source": [
    "regx = '.'\n",
    "\n",
    "list_of_string = ['t','A','34','$%']\n",
    "\n",
    "# re.search(regX,string_in_which_you_want_to_search_the_regX)\n",
    "# search for just the first occurence of regX\n",
    "\n",
    "for string in list_of_string:\n",
    "    print(re.search('.',string))"
   ]
  },
  {
   "cell_type": "code",
   "execution_count": 30,
   "metadata": {},
   "outputs": [
    {
     "name": "stdout",
     "output_type": "stream",
     "text": [
      "<re.Match object; span=(0, 1), match='t'>\n",
      "None\n",
      "None\n",
      "None\n"
     ]
    }
   ],
   "source": [
    "regx = '[a-z]'\n",
    "\n",
    "list_of_string = ['t','A','34','$%']\n",
    "\n",
    "# re.search(regX,string_in_which_you_want_to_search_the_regX)\n",
    "\n",
    "for string in list_of_string:\n",
    "    print(re.search('[a-z]',string))"
   ]
  },
  {
   "cell_type": "code",
   "execution_count": 32,
   "metadata": {},
   "outputs": [
    {
     "name": "stdout",
     "output_type": "stream",
     "text": [
      "None\n",
      "<re.Match object; span=(0, 1), match='A'>\n",
      "None\n",
      "None\n"
     ]
    }
   ],
   "source": [
    "regx = '[A-Z]'\n",
    "\n",
    "list_of_string = ['t','A','34','$%']\n",
    "\n",
    "# re.search(regX,string_in_which_you_want_to_search_the_regX)\n",
    "\n",
    "for string in list_of_string:\n",
    "    print(re.search('[A-Z]',string))"
   ]
  },
  {
   "cell_type": "code",
   "execution_count": 34,
   "metadata": {},
   "outputs": [
    {
     "name": "stdout",
     "output_type": "stream",
     "text": [
      "<re.Match object; span=(0, 1), match='t'>\n",
      "<re.Match object; span=(0, 1), match='A'>\n",
      "None\n",
      "None\n"
     ]
    }
   ],
   "source": [
    "regx = '[a-zA-Z]'\n",
    "\n",
    "list_of_string = ['t','A','34','$%']\n",
    "\n",
    "# re.search(regX,string_in_which_you_want_to_search_the_regX)\n",
    "\n",
    "for string in list_of_string:\n",
    "    print(re.search('[a-zA-Z]',string))"
   ]
  },
  {
   "cell_type": "code",
   "execution_count": 35,
   "metadata": {},
   "outputs": [
    {
     "name": "stdout",
     "output_type": "stream",
     "text": [
      "None\n",
      "None\n",
      "<re.Match object; span=(0, 1), match='3'>\n",
      "None\n"
     ]
    }
   ],
   "source": [
    "regx = '[0-9]'\n",
    "\n",
    "list_of_string = ['t','A','34','$%']\n",
    "\n",
    "# re.search(regX,string_in_which_you_want_to_search_the_regX)\n",
    "\n",
    "for string in list_of_string:\n",
    "    print(re.search('[0-9]',string))"
   ]
  },
  {
   "cell_type": "code",
   "execution_count": 36,
   "metadata": {},
   "outputs": [
    {
     "name": "stdout",
     "output_type": "stream",
     "text": [
      "<re.Match object; span=(0, 1), match='t'>\n",
      "<re.Match object; span=(0, 1), match='A'>\n",
      "<re.Match object; span=(0, 1), match='3'>\n",
      "None\n"
     ]
    }
   ],
   "source": [
    "regx = '[a-zA-Z0-9]'\n",
    "\n",
    "list_of_string = ['t','A','34','$%']\n",
    "\n",
    "# re.search(regX,string_in_which_you_want_to_search_the_regX)\n",
    "\n",
    "for string in list_of_string:\n",
    "    print(re.search('[a-zA-Z0-9]',string))"
   ]
  },
  {
   "cell_type": "code",
   "execution_count": 38,
   "metadata": {},
   "outputs": [
    {
     "name": "stdout",
     "output_type": "stream",
     "text": [
      "None\n",
      "None\n",
      "None\n",
      "<re.Match object; span=(0, 1), match='$'>\n"
     ]
    }
   ],
   "source": [
    "regx = '[!-)]'\n",
    "\n",
    "list_of_string = ['t','A','34','$%']\n",
    "\n",
    "# re.search(regX,string_in_which_you_want_to_search_the_regX)\n",
    "\n",
    "for string in list_of_string:\n",
    "    print(re.search('[!-)]',string))"
   ]
  },
  {
   "cell_type": "code",
   "execution_count": null,
   "metadata": {},
   "outputs": [],
   "source": [
    "Quantifiers:\n",
    "    + => 1 or more occurence \n",
    "    * => 0 or more occurence\n",
    "    ? => Optional (like once, or not at all)\n",
    "         1 or 0 , if multiple occurs ignores them."
   ]
  },
  {
   "cell_type": "code",
   "execution_count": 46,
   "metadata": {},
   "outputs": [
    {
     "name": "stdout",
     "output_type": "stream",
     "text": [
      "<re.Match object; span=(0, 1), match='t'>\n",
      "None\n",
      "None\n",
      "None\n",
      "<re.Match object; span=(3, 11), match='afdshbaa'>\n",
      "<re.Match object; span=(8, 17), match='fdsjkfhds'>\n",
      "<re.Match object; span=(0, 3), match='jdf'>\n"
     ]
    }
   ],
   "source": [
    "Quantifier = '+'\n",
    "regx = '[a-z]+'\n",
    "\n",
    "list_of_string = ['t','A','34','$%','aabhsdfa234','ASDFASDGsdhfkjsdf32874924','asads78dfd88fdj']\n",
    "\n",
    "# re.search(regX,string_in_which_you_want_to_search_the_regX)\n",
    "\n",
    "for string in list_of_string:\n",
    "    print(re.search('[a-z]+',string[::-1]))"
   ]
  },
  {
   "cell_type": "code",
   "execution_count": null,
   "metadata": {},
   "outputs": [],
   "source": [
    "re.findall()"
   ]
  },
  {
   "cell_type": "code",
   "execution_count": 47,
   "metadata": {},
   "outputs": [
    {
     "name": "stdout",
     "output_type": "stream",
     "text": [
      "['t']\n",
      "[]\n",
      "[]\n",
      "[]\n",
      "['aabhsdfa']\n",
      "['sdhfkjsdf']\n",
      "['asads', 'dfd', 'fdj']\n"
     ]
    }
   ],
   "source": [
    "Quantifier = '+'\n",
    "regx = '[a-z]+'\n",
    "\n",
    "list_of_string = ['t','A','34','$%','aabhsdfa234','ASDFASDGsdhfkjsdf32874924','asads78dfd88fdj']\n",
    "\n",
    "# re.search(regX,string_in_which_you_want_to_search_the_regX)\n",
    "\n",
    "for string in list_of_string:\n",
    "    print(re.findall('[a-z]+',string))"
   ]
  },
  {
   "cell_type": "code",
   "execution_count": 48,
   "metadata": {},
   "outputs": [
    {
     "name": "stdout",
     "output_type": "stream",
     "text": [
      "<re.Match object; span=(0, 1), match='t'>\n",
      "<re.Match object; span=(0, 0), match=''>\n",
      "<re.Match object; span=(0, 0), match=''>\n",
      "<re.Match object; span=(0, 0), match=''>\n",
      "<re.Match object; span=(0, 0), match=''>\n",
      "<re.Match object; span=(0, 0), match=''>\n",
      "<re.Match object; span=(0, 3), match='jdf'>\n"
     ]
    }
   ],
   "source": [
    "Quantifier = '*'\n",
    "regx = '[a-z]*'\n",
    "\n",
    "list_of_string = ['t','A','34','$%','aabhsdfa234','ASDFASDGsdhfkjsdf32874924','asads78dfd88fdj']\n",
    "\n",
    "# re.search(regX,string_in_which_you_want_to_search_the_regX)\n",
    "\n",
    "for string in list_of_string:\n",
    "    print(re.search('[a-z]*',string[::-1]))"
   ]
  },
  {
   "cell_type": "code",
   "execution_count": 50,
   "metadata": {},
   "outputs": [
    {
     "name": "stdout",
     "output_type": "stream",
     "text": [
      "<re.Match object; span=(0, 1), match='t'>\n",
      "<re.Match object; span=(0, 0), match=''>\n",
      "<re.Match object; span=(0, 0), match=''>\n",
      "<re.Match object; span=(0, 0), match=''>\n",
      "<re.Match object; span=(0, 1), match='a'>\n",
      "<re.Match object; span=(0, 0), match=''>\n",
      "<re.Match object; span=(0, 1), match='a'>\n"
     ]
    }
   ],
   "source": [
    "Quantifier = '?'\n",
    "regx = '[a-z]?'\n",
    "\n",
    "list_of_string = ['t','A','34','$%','aabhsdfa234','ASDFASDGsdhfkjsdf32874924','asads78dfd88fdj']\n",
    "\n",
    "# re.search(regX,string_in_which_you_want_to_search_the_regX)\n",
    "\n",
    "for string in list_of_string:\n",
    "    print(re.search('[a-z]?',string))"
   ]
  },
  {
   "cell_type": "code",
   "execution_count": null,
   "metadata": {},
   "outputs": [],
   "source": [
    "Anchors:    \n",
    "    ^ => start of the string\n",
    "    $ => end of the string\n",
    "    "
   ]
  },
  {
   "cell_type": "code",
   "execution_count": 51,
   "metadata": {},
   "outputs": [
    {
     "name": "stdout",
     "output_type": "stream",
     "text": [
      "None\n",
      "<re.Match object; span=(0, 1), match='A'>\n",
      "None\n",
      "<re.Match object; span=(0, 1), match='A'>\n",
      "None\n"
     ]
    }
   ],
   "source": [
    "Anchor = '^'\n",
    "regx = '^A'\n",
    "\n",
    "list_of_string = ['Vachan','Ankit Pal','Mamatha','Arunkumar','Pradeep']\n",
    "\n",
    "# re.search(regX,string_in_which_you_want_to_search_the_regX)\n",
    "\n",
    "for string in list_of_string:\n",
    "    print(re.search('^A',string))"
   ]
  },
  {
   "cell_type": "code",
   "execution_count": 52,
   "metadata": {},
   "outputs": [
    {
     "name": "stdout",
     "output_type": "stream",
     "text": [
      "None\n",
      "None\n",
      "<re.Match object; span=(6, 7), match='a'>\n",
      "None\n",
      "None\n"
     ]
    }
   ],
   "source": [
    "Anchor = '$'\n",
    "regx = 'a$'\n",
    "\n",
    "list_of_string = ['Vachan','Ankit Pal','Mamatha','Arunkumar','Pradeep']\n",
    "\n",
    "# re.search(regX,string_in_which_you_want_to_search_the_regX)\n",
    "\n",
    "for string in list_of_string:\n",
    "    print(re.search('a$',string))"
   ]
  },
  {
   "cell_type": "code",
   "execution_count": null,
   "metadata": {},
   "outputs": [],
   "source": [
    "# 'Happy Holi'\n",
    "# 'Happy Eid'"
   ]
  },
  {
   "cell_type": "code",
   "execution_count": null,
   "metadata": {},
   "outputs": [],
   "source": [
    "{} => counting stuff\n",
    "[a-z]{2} => should occur exactly 2 times.\n",
    "[0-9]{3} => should occur exactly 3 times\n",
    "[A-Z]{3,5} => should occur in the range 3,4,5 times."
   ]
  },
  {
   "cell_type": "code",
   "execution_count": 57,
   "metadata": {},
   "outputs": [
    {
     "name": "stdout",
     "output_type": "stream",
     "text": [
      "None\n",
      "None\n",
      "None\n",
      "<re.Match object; span=(1, 8), match='runkuma'>\n",
      "None\n"
     ]
    }
   ],
   "source": [
    "regx = '[a-z]{9}'\n",
    "\n",
    "list_of_string = ['Vachan','Ankit Pal','Mamatha','Arunkumar','Pradeep']\n",
    "\n",
    "# re.search(regX,string_in_which_you_want_to_search_the_regX)\n",
    "\n",
    "for string in list_of_string:\n",
    "    print(re.search('[a-z]{7}',string))"
   ]
  },
  {
   "cell_type": "code",
   "execution_count": 59,
   "metadata": {},
   "outputs": [
    {
     "name": "stdout",
     "output_type": "stream",
     "text": [
      "<re.Match object; span=(1, 6), match='achan'>\n",
      "None\n",
      "<re.Match object; span=(1, 7), match='amatha'>\n",
      "<re.Match object; span=(1, 8), match='runkuma'>\n",
      "<re.Match object; span=(1, 7), match='radeep'>\n"
     ]
    }
   ],
   "source": [
    "regx = '[a-z]{4,7}'\n",
    "\n",
    "list_of_string = ['Vachan','Ankit Pal','Mamatha','Arunkumar','Pradeep']\n",
    "\n",
    "# re.search(regX,string_in_which_you_want_to_search_the_regX)\n",
    "\n",
    "for string in list_of_string:\n",
    "    print(re.search('[a-z]{5,7}',string))"
   ]
  },
  {
   "cell_type": "code",
   "execution_count": 62,
   "metadata": {},
   "outputs": [
    {
     "name": "stdout",
     "output_type": "stream",
     "text": [
      "None\n",
      "None\n",
      "None\n",
      "None\n",
      "<re.Match object; span=(0, 5), match='34534'>\n"
     ]
    }
   ],
   "source": [
    "compliment = '^'\n",
    "regx = '[^a-z]{4,7}'\n",
    "\n",
    "list_of_string = ['Vachan','Ankit Pal','Mamatha','Arunkumar','34534']\n",
    "\n",
    "# re.search(regX,string_in_which_you_want_to_search_the_regX)\n",
    "\n",
    "for string in list_of_string:\n",
    "    print(re.search('[^a-z]{4,7}',string))"
   ]
  },
  {
   "cell_type": "code",
   "execution_count": null,
   "metadata": {},
   "outputs": [],
   "source": [
    ".(dot) => match with all the chars(alphabets,digits,specialchars) except newline(\"\\n\") => . is for a single char.\n",
    "[]  => Character Class. a set of chars\n",
    "[A-Z] => all the capital aphabets (single occurence)\n",
    "[a-z] => all the small alphabets (single occurence)\n",
    "[A-Za-z] => all small+Capital (single occurence)\n",
    "[0-9] => digits (single occurence)\n",
    "\n",
    "Quantifiers:\n",
    "    + => atleast 1 or more occurence \n",
    "    * => 0 or more occurence\n",
    "    ? => Optional (like once, or not at all)\n",
    "    \n",
    "Anchors:    \n",
    "    ^ => start of the string\n",
    "    $ => end of the string\n",
    "    \n",
    "{} => counting stuff\n",
    "[a-z]{2} => should occur exactly 2 times.\n",
    "[0-9]{3} => should occur exactly 3 times\n",
    "[A-Z]{3,5} => should occur in the range 3,4,5 times.\n",
    "\n",
    "^ compliment(reversal)"
   ]
  },
  {
   "cell_type": "code",
   "execution_count": null,
   "metadata": {},
   "outputs": [],
   "source": [
    "# Q1) Write a regX to match a 3 digit number followed by abc.\n",
    "# correct ones = ['124abc','457abc','589abc']\n",
    "# wrong ones = ['12dfgabc','abc','234abrc']\n",
    "# give it 5 minutes.\n",
    "# # 9:05"
   ]
  },
  {
   "cell_type": "code",
   "execution_count": 74,
   "metadata": {},
   "outputs": [
    {
     "name": "stdout",
     "output_type": "stream",
     "text": [
      "<re.Match object; span=(0, 6), match='124abc'>\n",
      "<re.Match object; span=(0, 6), match='457abc'>\n",
      "<re.Match object; span=(0, 6), match='589abc'>\n",
      "<re.Match object; span=(10, 16), match='816abc'>\n",
      "<re.Match object; span=(1, 7), match='234abc'>\n",
      "None\n",
      "None\n",
      "None\n",
      "None\n",
      "None\n"
     ]
    }
   ],
   "source": [
    "list_of_correct = ['124abc','457abc','589abc','0002237381816abcdef','1234abc']\n",
    "list_of_wrong = ['12dfgabc','abc','234abrc','123xyz','123AbC']\n",
    "\n",
    "regX = '[0-9]{3}abc'\n",
    "\n",
    "for string in list_of_correct:\n",
    "    print(re.search(regX,string))\n",
    "    \n",
    "for string in list_of_wrong:\n",
    "    print(re.search(regX,string))"
   ]
  },
  {
   "cell_type": "code",
   "execution_count": null,
   "metadata": {},
   "outputs": [],
   "source": [
    "Q2.) Write a regX to match a 3 digit number followed by 3 small alphabets.\n",
    "\n",
    "Q3.) Write a regx that start with a and end with z\n",
    "\n",
    "Q4.) Write a reqx that should match a pattern having atmost 3 occurences of small alphabets.\n",
    "\n",
    "# homework."
   ]
  },
  {
   "cell_type": "code",
   "execution_count": null,
   "metadata": {},
   "outputs": [],
   "source": [
    "Next session: question on re, and list comprehension."
   ]
  }
 ],
 "metadata": {
  "kernelspec": {
   "display_name": "Python 3",
   "language": "python",
   "name": "python3"
  },
  "language_info": {
   "codemirror_mode": {
    "name": "ipython",
    "version": 3
   },
   "file_extension": ".py",
   "mimetype": "text/x-python",
   "name": "python",
   "nbconvert_exporter": "python",
   "pygments_lexer": "ipython3",
   "version": "3.8.3"
  }
 },
 "nbformat": 4,
 "nbformat_minor": 4
}
