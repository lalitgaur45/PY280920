{
 "cells": [
  {
   "cell_type": "code",
   "execution_count": null,
   "metadata": {},
   "outputs": [],
   "source": [
    "Q1) Create a class Animal, and Implement following things.\n",
    " \n",
    "animal_obj = Animal()    \n",
    "\n",
    "if I call animal_obj.eat() => obj_name is eating.\n",
    "animal_obj.walk() => it should print walking with obj_no_of_legs\n",
    "\n",
    "animal_obj.getName() => return me the name\n",
    "animal_obj.setName() => set the name of the animal\n",
    "\n",
    "setters and getters for no_of_legs.\n",
    "\n",
    "print(animal_obj) => print the name of the animal along with the no\n",
    "of legs.\n",
    "\n",
    "\n",
    "10 minutes.\n",
    "\n",
    "# __str__"
   ]
  },
  {
   "cell_type": "code",
   "execution_count": 9,
   "metadata": {},
   "outputs": [],
   "source": [
    "class Animal:\n",
    "    def __init__(self,name,no_of_legs):\n",
    "        self.name = name\n",
    "        self.no_of_legs = no_of_legs\n",
    "        \n",
    "    def eat(self):\n",
    "        print(self.name,\"is eating\")\n",
    "        \n",
    "    def walk(self):\n",
    "        print(\"Walking with\",self.no_of_legs)\n",
    "    \n",
    "    def get_name(self):\n",
    "        return self.name\n",
    "    \n",
    "    def set_name(self,name):\n",
    "        self.name = name\n",
    "        \n",
    "    def set_no_of_legs(self,no_of_legs):\n",
    "        self.no_of_legs = no_of_legs\n",
    "        \n",
    "    def get_no_of_legs(self):\n",
    "        return self.no_of_legs\n",
    "    \n",
    "    def __str__(self):\n",
    "        return self.name+\" and have legs=\"+ str(self.no_of_legs)"
   ]
  },
  {
   "cell_type": "code",
   "execution_count": 10,
   "metadata": {},
   "outputs": [
    {
     "name": "stdout",
     "output_type": "stream",
     "text": [
      "giraffe and have legs=4\n"
     ]
    }
   ],
   "source": [
    "animal_obj = Animal('giraffe',4)\n",
    "\n",
    "print(animal_obj)"
   ]
  },
  {
   "cell_type": "code",
   "execution_count": 4,
   "metadata": {},
   "outputs": [],
   "source": [
    "# len(animal_obj)"
   ]
  },
  {
   "cell_type": "code",
   "execution_count": 11,
   "metadata": {},
   "outputs": [
    {
     "name": "stdout",
     "output_type": "stream",
     "text": [
      "giraffe is eating\n"
     ]
    }
   ],
   "source": [
    "animal_obj.eat()"
   ]
  },
  {
   "cell_type": "code",
   "execution_count": 12,
   "metadata": {},
   "outputs": [
    {
     "name": "stdout",
     "output_type": "stream",
     "text": [
      "Walking with 4\n"
     ]
    }
   ],
   "source": [
    "animal_obj.walk()"
   ]
  },
  {
   "cell_type": "code",
   "execution_count": null,
   "metadata": {},
   "outputs": [],
   "source": [
    "Q2) Create a Class named Vehicle which will do the following things\n",
    "\n",
    "break() => it should decrease the speed of vehicle to 0\n",
    "\n",
    "slow_down() => it should slow the car speed by 10 units.\n",
    "\n",
    "accelerate() => it should increase the speed by 10 units.\n",
    "\n",
    "ignite() => it should start the car with speed 0\n",
    "\n",
    "gear_up() => it should increase the gear by 1. but toatl no of gears\n",
    "                are only 5\n",
    "    \n",
    "gear_down() => it should decrease the gear by 1. but total no of gears\n",
    "                are more than 1."
   ]
  },
  {
   "cell_type": "code",
   "execution_count": null,
   "metadata": {},
   "outputs": [],
   "source": [
    "15 minutes.\n",
    "\n",
    "Bonus Part: Mimic a racing between different vehicles and use the \n",
    "    class created above to create 3 different vehicles."
   ]
  },
  {
   "cell_type": "code",
   "execution_count": 25,
   "metadata": {},
   "outputs": [],
   "source": [
    "class Vehicle:\n",
    "    def __init__(self):\n",
    "        self.speed = 0\n",
    "        self.current_gear = 0\n",
    "        \n",
    "    def brake(self):\n",
    "        if self.speed == 0:\n",
    "            print(\"Please don't joke with me!!\")\n",
    "        else:\n",
    "            self.speed = 0\n",
    "            print(\"break applied, speed now is\",self.speed)\n",
    "        \n",
    "    def slow_down(self):\n",
    "        if self.speed >= 10:\n",
    "            self.speed = self.speed - 10\n",
    "            print(\"We decreased it to \",self.speed)\n",
    "        \n",
    "    def accelerate(self):\n",
    "        if self.speed <= 240:\n",
    "            self.speed = self.speed + 10\n",
    "            print(\"We increased it to \",self.speed)\n",
    "        else:\n",
    "            print(\"sorry there is no more speed , buy a ferrari\")\n",
    "            \n",
    "    def gear_down(self):\n",
    "        if self.current_gear<=0:\n",
    "            print(\"We can no decrease the gear further\")\n",
    "        else:\n",
    "            self.current_gear = self.current_gear - 1\n",
    "            print(\"the gear now is\",self.current_gear)\n",
    "            \n",
    "    def gear_up(self):\n",
    "        if self.current_gear<5:\n",
    "            self.current_gear = self.current_gear + 1\n",
    "            print(\"the gear now is\",self.current_gear)\n",
    "        else:\n",
    "            print(\"We can no increase the gear further\")"
   ]
  },
  {
   "cell_type": "code",
   "execution_count": 26,
   "metadata": {},
   "outputs": [],
   "source": [
    "truck = Vehicle()"
   ]
  },
  {
   "cell_type": "code",
   "execution_count": 27,
   "metadata": {},
   "outputs": [
    {
     "name": "stdout",
     "output_type": "stream",
     "text": [
      "Please don't joke with me!!\n"
     ]
    }
   ],
   "source": [
    "truck.brake()"
   ]
  },
  {
   "cell_type": "code",
   "execution_count": 28,
   "metadata": {},
   "outputs": [
    {
     "name": "stdout",
     "output_type": "stream",
     "text": [
      "We increased it to  10\n"
     ]
    }
   ],
   "source": [
    "truck.accelerate()"
   ]
  },
  {
   "cell_type": "code",
   "execution_count": 29,
   "metadata": {},
   "outputs": [
    {
     "name": "stdout",
     "output_type": "stream",
     "text": [
      "We increased it to  20\n"
     ]
    }
   ],
   "source": [
    "truck.accelerate()"
   ]
  },
  {
   "cell_type": "code",
   "execution_count": 30,
   "metadata": {},
   "outputs": [
    {
     "name": "stdout",
     "output_type": "stream",
     "text": [
      "We increased it to  30\n",
      "We increased it to  40\n",
      "We increased it to  50\n",
      "We increased it to  60\n",
      "We increased it to  70\n",
      "We increased it to  80\n",
      "We increased it to  90\n",
      "We increased it to  100\n",
      "We increased it to  110\n",
      "We increased it to  120\n",
      "We increased it to  130\n",
      "We increased it to  140\n",
      "We increased it to  150\n",
      "We increased it to  160\n",
      "We increased it to  170\n",
      "We increased it to  180\n",
      "We increased it to  190\n",
      "We increased it to  200\n",
      "We increased it to  210\n",
      "We increased it to  220\n",
      "We increased it to  230\n",
      "We increased it to  240\n",
      "We increased it to  250\n",
      "sorry there is no more speed , buy a ferrari\n",
      "sorry there is no more speed , buy a ferrari\n",
      "sorry there is no more speed , buy a ferrari\n",
      "sorry there is no more speed , buy a ferrari\n",
      "sorry there is no more speed , buy a ferrari\n",
      "sorry there is no more speed , buy a ferrari\n",
      "sorry there is no more speed , buy a ferrari\n",
      "sorry there is no more speed , buy a ferrari\n",
      "sorry there is no more speed , buy a ferrari\n",
      "sorry there is no more speed , buy a ferrari\n",
      "sorry there is no more speed , buy a ferrari\n",
      "sorry there is no more speed , buy a ferrari\n",
      "sorry there is no more speed , buy a ferrari\n",
      "sorry there is no more speed , buy a ferrari\n",
      "sorry there is no more speed , buy a ferrari\n",
      "sorry there is no more speed , buy a ferrari\n",
      "sorry there is no more speed , buy a ferrari\n",
      "sorry there is no more speed , buy a ferrari\n",
      "sorry there is no more speed , buy a ferrari\n",
      "sorry there is no more speed , buy a ferrari\n",
      "sorry there is no more speed , buy a ferrari\n",
      "sorry there is no more speed , buy a ferrari\n",
      "sorry there is no more speed , buy a ferrari\n",
      "sorry there is no more speed , buy a ferrari\n",
      "sorry there is no more speed , buy a ferrari\n",
      "sorry there is no more speed , buy a ferrari\n"
     ]
    }
   ],
   "source": [
    "for i in range(1,50):\n",
    "    truck.accelerate()"
   ]
  },
  {
   "cell_type": "code",
   "execution_count": null,
   "metadata": {},
   "outputs": [],
   "source": [
    "Q3. Create a Student Record containing:-\n",
    "    \n",
    "Student:\n",
    "    name\n",
    "    roll_no\n",
    "    marks = {\"history\":0,\"mechanics\":0,\"chemisry\":0}\n",
    "    \n",
    "    student_obj.add_marks(\"mechanics\",40)\n",
    "    \n",
    "    find_topper():classmethod, student_list:class_variable\n",
    "                                total_marks: class_variable\n",
    "    find_failed(): below 33% a students gets failed.\n",
    "        \n",
    "    percentage as obj var.\n",
    "        \n",
    "\n",
    "        \n",
    "Homework Question."
   ]
  },
  {
   "cell_type": "code",
   "execution_count": null,
   "metadata": {},
   "outputs": [],
   "source": [
    "self is the keyword which contain reference to the current obj.\n",
    "\n",
    "and think about a list in which you can add all the obj reference.\n",
    "\n",
    "5 mins."
   ]
  },
  {
   "cell_type": "code",
   "execution_count": null,
   "metadata": {},
   "outputs": [],
   "source": [
    "class xyz:\n",
    "    m = 'apple'\n",
    "    def __init__(self):\n",
    "    xyz.m = mango"
   ]
  }
 ],
 "metadata": {
  "kernelspec": {
   "display_name": "Python 3",
   "language": "python",
   "name": "python3"
  },
  "language_info": {
   "codemirror_mode": {
    "name": "ipython",
    "version": 3
   },
   "file_extension": ".py",
   "mimetype": "text/x-python",
   "name": "python",
   "nbconvert_exporter": "python",
   "pygments_lexer": "ipython3",
   "version": "3.8.3"
  }
 },
 "nbformat": 4,
 "nbformat_minor": 4
}
